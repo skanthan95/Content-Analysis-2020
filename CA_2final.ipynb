{
 "cells": [
  {
   "cell_type": "markdown",
   "metadata": {},
   "source": [
    "# Week 2 - Sampling & Reliability\n",
    "\n",
    "Up until this week, we have assumed that the corpus you have used for analysis assignments represented a *meaningful* assemblage of texts from which reasonable inferences could be drawn about the social game, social world and social actors that produced it. \n",
    "\n",
    "This week, we ask you to build a corpus for preliminary analysis and articulate what your sample represents in context of your final project. We begin by exploring how we can get *human* readings of content at scale. We want to gather and utilize human responses for several reasons. First, we may want to use crowdsourced human scores as the primary method of coding, extracting or organizing content (as it was in two of the assigned readings). Second, we may want to validate or tune a computational algorithm we may have developed in terms of how it is associated with human meanings or experience. Finally, we may want to use human coding on a sample of data as the basis for training a model or algorithm to then extrapolate *human-like* annotations to the entire population. Here intelligent sampling is critical to maximize effective maching training. \n",
    "\n",
    "For this notebook we will be using the following packages"
   ]
  },
  {
   "cell_type": "code",
   "execution_count": 4,
   "metadata": {},
   "outputs": [],
   "source": [
    "#Special module written for this class\n",
    "#This provides access to data and to helper functions from previous weeks\n",
    "#Make sure you update it before starting this notebook\n",
    "import lucem_illud_2020 #pip install -U git+git://github.com/Computational-Content-Analysis-2020/lucem_illud_2020.git\n",
    "\n",
    "#All these packages need to be installed from pip\n",
    "import numpy as np #For arrays\n",
    "import scipy as sp #For some stats\n",
    "import pandas #Gives us DataFrames\n",
    "import matplotlib.pyplot as plt #For graphics\n",
    "import seaborn #Makes the graphics look nicer\n",
    "import pyanno #On python3 make sure to pip install pyanno3\n",
    "\n",
    "#We need to import these this way due to how pyanno is setup\n",
    "from pyanno.measures import pairwise_matrix, agreement, cohens_kappa, cohens_weighted_kappa, fleiss_kappa, krippendorffs_alpha, pearsons_rho, scotts_pi, spearmans_rho\n",
    "from pyanno.annotations import AnnotationsContainer\n",
    "from pyanno.models import ModelA, ModelBt, ModelB\n",
    "\n",
    "from functools import reduce\n",
    "from itertools import permutations\n",
    "import math\n",
    "\n",
    "\n",
    "#This 'magic' command makes the plots work better\n",
    "#in the notebook, don't use it outside of a notebook.\n",
    "#Also you can ignore the warning\n",
    "%matplotlib inline\n",
    "\n",
    "import os #For looking through files\n",
    "import os.path #For managing file paths"
   ]
  },
  {
   "cell_type": "markdown",
   "metadata": {},
   "source": [
    "## <span style=\"color:red\">*Pitch the Domain of your Project*</span>\n",
    "\n",
    "<span style=\"color:red\">In the two cells immediately following, describe **WHAT** you are planning to analyze for your final project (i.e., texts, contexts and the social game, world and actors you intend to learn about through your analysis) (<200 words) and **WHY** you are going to do it (i.e., why would theory and/or the average person benefit from knowing the results of your investigation) (<200 words)? [**Note**: your individual or collective project can change over the course of the quarter if new data and/or analysis opportunities arise or if old ones fade away.]"
   ]
  },
  {
   "cell_type": "markdown",
   "metadata": {},
   "source": [
    "## ***What?*** \n",
    "<200 words\n",
    "\n",
    "My initial project plan was to study cancel culture on Twitter, by seeing whether cancelling individuals actually carries any sticking power. I was going to use text analysis to generate different dimensions for categorizing participants (for example, analyze tweets to gauge whether someone is a feminist), and  create a model that could predict what tweets are most likely to get cancelled. However, I would  need access to Twitter's premium API.\n",
    "\n",
    "Instead, I might do an MTurk study on music perception and emotion across cultures (which is what I did on a much smaller scale here, for this assignment). More specifically, I would give participants different song clips and ask them to fill out a likert-scale measure (potentially, an adapted version of this one: https://www.researchgate.net/figure/5-The-Geneva-Emotional-Music-Scales-GEMS-derived-from-confi-rmatory-factor-analyses_tbl4_260204368). Would include an open ended component so we can do sentiment analysis as well.\n",
    "\n",
    "Some other ideas I'm toying with are: studying tone in Wikipedia articles that are supposed to be presenting topics neutrally (seeing if they are or if the piece is clearly skewed); I would use the wikipedia corpus Dr. Evans was talking about. I'm planning on solidifying a topic once we meet during office hours.\n"
   ]
  },
  {
   "cell_type": "markdown",
   "metadata": {},
   "source": [
    "## ***Why?***\n",
    "\n",
    "MTurk idea: I'm interested in music cognition and emotion across cultures, and to want to probe whether certain musical emotion perceptions are invariant across cultures (e.g., Juslin, 2012; Higgins, 2012). This research would help in determining whether there is some universality to certain emotions (the jury's currently out on this). There parallels between how language and music are processed in the brain (Jackendoff, 2009), so insights from music cognition research could inform research on language cognition. These findings can also influence music therapy research, which obviously has manifold benefits.\n",
    "\n",
    "Cancel culture idea: Will help us understand whether cancelling people actually \"works\" (the backfire effect suggests that it might not), and could inform strategies on how to approach conflict and justice-seeking online. Could also help with predicting what tweets are more likely to be cancelled in the future and why, and how cancelling works in the context of social network theory."
   ]
  },
  {
   "cell_type": "markdown",
   "metadata": {},
   "source": [
    "## <span style=\"color:red\">*Pitch Your Sample*</span>\n",
    "\n",
    "<span style=\"color:red\">In the cell immediately following, describe the rationale behind your proposed sample design for your final project. What is the social game, social work, or social actors about whom you are seeking to make inferences? What are its virtues with respect to your research questions? What are its limitations? What are alternatives? What would be a reasonable path to \"scale up\" your sample for further analysis (i.e., high-profile publication)? (<200 words)."
   ]
  },
  {
   "cell_type": "markdown",
   "metadata": {},
   "source": [
    "*Some of this is already covered in the \"what/why\" section\"\n",
    "\n",
    "MTurk idea: I decided to use a Likert scale with multiple dimensions to capture emotion perception in music, and would want to implement an open ended component too. I also specifically chose/will choose songs that don't have vocals, or songs where the vocals are obscured or are otherwise unintelligble (maybe in a different langauge). My rationale for this is that I want to focus on melody perception, extricating the confounds of lyrics from it. As stated before, I ran this study on a small sample for this assignment but would scale it up on a larger platform like MTurk for further analysis. The limitations of a likert scale include its discreteness (participants can't choose values in between other values), but I'm hoping that the free response component will give participants more room to explain their choices. Another limitation is that we can't extricate participant history from their responses (ex., a participant might find a song sad because it played during a traumatic time in their life, not because the song is inherently sad to them). The social actors here are participants across a diverse set of cultures, since I'm studying the universality of emotion (will operationalize later).\n",
    "\n",
    "* See survey in my homework response below"
   ]
  },
  {
   "cell_type": "markdown",
   "metadata": {},
   "source": [
    "# The rest of my answers are below the example annotation dataset explanation; I didn't delete your example code because I wanted to be able to refer to it while doing the homework. I've written my answers as comments throughout the code, as well as a snippet at the beginning of the \"your turn\" section"
   ]
  },
  {
   "cell_type": "markdown",
   "metadata": {},
   "source": [
    "# Example Annotation Dataset"
   ]
  },
  {
   "cell_type": "markdown",
   "metadata": {},
   "source": [
    "Load Rzhetsky et al (2009)'s sample dataset, which can be found [here](https://github.com/enthought/uchicago-pyanno/tree/master/data). This data is the result of a content analytic / content extraction study in which Andrey Rzhetsky and colleagues from the National Library of Medicine, published [here](http://journals.plos.org/ploscompbiol/article?id=10.1371/journal.pcbi.1000391) in [PLOS Computational Biology](http://journals.plos.org/ploscompbiol/), gave eight annotators 10,000 sentence chunks from biomedical text in biomedical abstracts and articles, then asked them, in a loop design schematically illustrated below that provided 3 independent codings for each document. The sampling strategy pursued diversity by drawing from PubMed abstracts (1000) and full-text articles (9000: 20% from abstracts, 10% from introductions, 20% from methods, 25% from results, and 25% from discussions.) The dataset extract here involves respondents codes for sentences in terms of their *Evidence*: {0, 1, 2, 3, -1} where 0 is the complete lack of evidence, 3 is direct evidence present within the sentence, and -1 is didn't respond. (They also crowdsourced and analyzed *polarity*, *certainty*, and *number*). For example, consider the following two abutting sentence chunks: *\"Because null mutations in toxR and toxT abolish CT and TcpA expression in the El Tor biotype and also attenuate virulence...\"* [i.e., average certainty = 0], *\"...it is likely that the ToxR regulon has functional similarities between the two biotypes despite the clear differences in the inducing parameters observed in vitro\"* [i.e., average certainty = 1].\""
   ]
  },
  {
   "cell_type": "code",
   "execution_count": 5,
   "metadata": {},
   "outputs": [
    {
     "data": {
      "text/html": [
       "<img source=\"loopdesign.png\">\n"
      ],
      "text/plain": [
       "<IPython.core.display.HTML object>"
      ]
     },
     "metadata": {},
     "output_type": "display_data"
    }
   ],
   "source": [
    "%%html\n",
    "<img source=\"loopdesign.png\">"
   ]
  },
  {
   "cell_type": "markdown",
   "metadata": {},
   "source": [
    "[Click here for loop design](loopdesign.png)"
   ]
  },
  {
   "cell_type": "code",
   "execution_count": 42,
   "metadata": {},
   "outputs": [],
   "source": [
    "x = np.loadtxt('/Users/Sruti/Desktop/testdata_numerical.txt')\n",
    "anno = AnnotationsContainer.from_array(x, missing_values=[-1])"
   ]
  },
  {
   "cell_type": "code",
   "execution_count": 44,
   "metadata": {},
   "outputs": [
    {
     "data": {
      "text/plain": [
       "array([[ 2.,  3.,  4., ..., -1., -1., -1.],\n",
       "       [ 1.,  1.,  1., ..., -1., -1., -1.],\n",
       "       [ 3.,  3.,  2., ..., -1., -1., -1.],\n",
       "       ...,\n",
       "       [ 3.,  3., -1., ..., -1., -1.,  2.],\n",
       "       [ 3.,  3., -1., ..., -1., -1.,  4.],\n",
       "       [ 2.,  2., -1., ..., -1., -1.,  1.]])"
      ]
     },
     "execution_count": 44,
     "metadata": {},
     "output_type": "execute_result"
    }
   ],
   "source": [
    "x"
   ]
  },
  {
   "cell_type": "markdown",
   "metadata": {},
   "source": [
    "Interrogate the AnnotationsContainer object."
   ]
  },
  {
   "cell_type": "code",
   "execution_count": 11,
   "metadata": {},
   "outputs": [
    {
     "data": {
      "text/plain": [
       "array([[ 1,  2,  3, ..., -1, -1, -1],\n",
       "       [ 0,  0,  0, ..., -1, -1, -1],\n",
       "       [ 2,  2,  1, ..., -1, -1, -1],\n",
       "       ...,\n",
       "       [ 2,  2, -1, ..., -1, -1,  1],\n",
       "       [ 2,  2, -1, ..., -1, -1,  3],\n",
       "       [ 1,  1, -1, ..., -1, -1,  0]])"
      ]
     },
     "execution_count": 11,
     "metadata": {},
     "output_type": "execute_result"
    }
   ],
   "source": [
    "anno.annotations"
   ]
  },
  {
   "cell_type": "code",
   "execution_count": 12,
   "metadata": {},
   "outputs": [
    {
     "data": {
      "text/plain": [
       "[1.0, 2.0, 3.0, 4.0]"
      ]
     },
     "execution_count": 12,
     "metadata": {},
     "output_type": "execute_result"
    }
   ],
   "source": [
    "anno.labels"
   ]
  },
  {
   "cell_type": "code",
   "execution_count": 13,
   "metadata": {},
   "outputs": [
    {
     "data": {
      "text/plain": [
       "[-1]"
      ]
     },
     "execution_count": 13,
     "metadata": {},
     "output_type": "execute_result"
    }
   ],
   "source": [
    "anno.missing_values"
   ]
  },
  {
   "cell_type": "markdown",
   "metadata": {},
   "source": [
    "# Annotation Statistics"
   ]
  },
  {
   "cell_type": "markdown",
   "metadata": {},
   "source": [
    "First, we assume categorical codes...that each code is qualitatively distinct from each other. Two measures are primarily used for this: Scott's $\\pi$, Cohen's $\\kappa$, and Krippendorff's $\\alpha$ which each measure the extent of agreement between two annotators, but take into account the possibility of the agreement occurring by chance in slightly different ways. Any agreement measure begins with the frequency of codes:"
   ]
  },
  {
   "cell_type": "code",
   "execution_count": 14,
   "metadata": {},
   "outputs": [
    {
     "data": {
      "text/plain": [
       "array([0.11666667, 0.245     , 0.34083333, 0.2975    ])"
      ]
     },
     "execution_count": 14,
     "metadata": {},
     "output_type": "execute_result"
    }
   ],
   "source": [
    "pyanno.measures.agreement.labels_frequency(anno.annotations,4)"
   ]
  },
  {
   "cell_type": "markdown",
   "metadata": {},
   "source": [
    "Now consider the \"confusion matrix\" or matrix of coded agreements between any two coders:"
   ]
  },
  {
   "cell_type": "code",
   "execution_count": 15,
   "metadata": {},
   "outputs": [
    {
     "name": "stdout",
     "output_type": "stream",
     "text": [
      "[[ 8.  7.  3.  2.]\n",
      " [ 9. 30. 13.  3.]\n",
      " [ 2.  9. 42. 11.]\n",
      " [ 1.  7. 14. 39.]]\n"
     ]
    },
    {
     "data": {
      "image/png": "[encoded data removed]",
      "text/plain": [
       "<Figure size 432x288 with 2 Axes>"
      ]
     },
     "metadata": {
      "needs_background": "light"
     },
     "output_type": "display_data"
    }
   ],
   "source": [
    "c = pyanno.measures.agreement.confusion_matrix(anno.annotations[:,0], anno.annotations[:,1],4)\n",
    "print(c)\n",
    "ac = seaborn.heatmap(c)\n",
    "plt.show()"
   ]
  },
  {
   "cell_type": "code",
   "execution_count": 60,
   "metadata": {},
   "outputs": [
    {
     "name": "stdout",
     "output_type": "stream",
     "text": [
      "[[0. 0. 0. 0.]\n",
      " [0. 0. 2. 0.]\n",
      " [0. 1. 1. 0.]\n",
      " [1. 1. 1. 0.]]\n"
     ]
    },
    {
     "data": {
      "image/png": "[encoded data removed]",
      "text/plain": [
       "<Figure size 432x288 with 2 Axes>"
      ]
     },
     "metadata": {
      "needs_background": "light"
     },
     "output_type": "display_data"
    }
   ],
   "source": [
    "c = pyanno.measures.agreement.confusion_matrix(anno.annotations[:,0], anno.annotations[:,5],4)\n",
    "print(c)\n",
    "ac = seaborn.heatmap(c)\n",
    "plt.show()"
   ]
  },
  {
   "cell_type": "markdown",
   "metadata": {},
   "source": [
    "Scott's $\\pi$ is computed as:\n",
    "\n",
    "$\\pi = \\frac{\\text{Pr}(a)-\\text{Pr}(e)}{1-\\text{Pr}(e)}$\n",
    "\n",
    "Where Pr($a$) is relative observed agreement, and Pr($e$) is expected agreement using joint proportions calculated from the confusion matrix or matrix of coded agreements between any two coders:"
   ]
  },
  {
   "cell_type": "code",
   "execution_count": 16,
   "metadata": {},
   "outputs": [
    {
     "data": {
      "text/plain": [
       "0.4386478265891502"
      ]
     },
     "execution_count": 16,
     "metadata": {},
     "output_type": "execute_result"
    }
   ],
   "source": [
    "scotts_pi(anno.annotations[:,0], anno.annotations[:,1])"
   ]
  },
  {
   "cell_type": "markdown",
   "metadata": {},
   "source": [
    "The generalization of Scott's $\\pi$ to $n$ coders is Fleiss' $\\kappa$ (Fleiss called it $\\kappa$ because he thought he was generalizing Cohen's $\\kappa$)"
   ]
  },
  {
   "cell_type": "code",
   "execution_count": 17,
   "metadata": {},
   "outputs": [
    {
     "data": {
      "text/plain": [
       "0.40417653771912765"
      ]
     },
     "execution_count": 17,
     "metadata": {},
     "output_type": "execute_result"
    }
   ],
   "source": [
    "fleiss_kappa(anno.annotations[::])"
   ]
  },
  {
   "cell_type": "markdown",
   "metadata": {},
   "source": [
    "Krippendorff's $\\alpha$ generalizes of Fleiss' $\\kappa$ to $n$ coders and takes into account the fact that annotations here are not categorically different, but ordinal, by adding a weight matrix in which off-diagonal cells contain weights indicating the seriousness of the disagreement between each score. When produced with no arguments, it simply produces an arithmetic distance (e.g., 3-1=2), such that cells one off the diagonal are weighted 1, two off 2, etc."
   ]
  },
  {
   "cell_type": "code",
   "execution_count": 11,
   "metadata": {},
   "outputs": [
    {
     "data": {
      "text/plain": [
       "0.6472588223831547"
      ]
     },
     "execution_count": 11,
     "metadata": {},
     "output_type": "execute_result"
    }
   ],
   "source": [
    "krippendorffs_alpha(anno.annotations[::]) "
   ]
  },
  {
   "cell_type": "markdown",
   "metadata": {},
   "source": [
    "Like Scott's $\\pi$, Cohen's $\\kappa$ also takes into account the possibility of the agreement occurring by chance, but in the following way:\n",
    "\n",
    "$\\kappa = \\frac{p_o-p_e}{1-p_e}=1-\\frac{1-p_o}{p_e}$\n",
    "\n",
    "where $p_o$ is the relative observed agreement among raters, and $p_e$ is the hypothetical probability of chance agreement, using the observed data to calculate the probabilities of each observer randomly saying each category. If the raters are in complete agreement then $\\kappa = 1$. If there is no agreement among the raters other than what would be expected by chance (as given by $p_e$), $\\kappa ≤ 0 $. Here, Cohen's $\\kappa$ statistic for the first two annotators is computed. This is probably the most common metric of agreement."
   ]
  },
  {
   "cell_type": "code",
   "execution_count": 18,
   "metadata": {},
   "outputs": [
    {
     "data": {
      "text/plain": [
       "0.43917037219392857"
      ]
     },
     "execution_count": 18,
     "metadata": {},
     "output_type": "execute_result"
    }
   ],
   "source": [
    "cohens_kappa(anno.annotations[:,0], anno.annotations[:,1])"
   ]
  },
  {
   "cell_type": "code",
   "execution_count": 19,
   "metadata": {},
   "outputs": [
    {
     "name": "stdout",
     "output_type": "stream",
     "text": [
      "[[1.         0.43917037 0.47677621        nan        nan        nan\n",
      "  0.45819119 0.43381462]\n",
      " [0.43917037 1.         0.38432922 0.41344423        nan        nan\n",
      "         nan 0.33643611]\n",
      " [0.47677621 0.38432922 1.         0.39583333 0.51704894        nan\n",
      "         nan        nan]\n",
      " [       nan 0.41344423 0.39583333 1.         0.34597068 0.4446844\n",
      "         nan        nan]\n",
      " [       nan        nan 0.51704894 0.34597068 1.         0.37938644\n",
      "  0.43039733        nan]\n",
      " [       nan        nan        nan 0.4446844  0.37938644 1.\n",
      "  0.38341929 0.31214748]\n",
      " [0.45819119        nan        nan        nan 0.43039733 0.38341929\n",
      "  1.         0.394806  ]\n",
      " [0.43381462 0.33643611        nan        nan        nan 0.31214748\n",
      "  0.394806   1.        ]]\n"
     ]
    }
   ],
   "source": [
    "m = pairwise_matrix(cohens_kappa, anno.annotations)\n",
    "print(m)"
   ]
  },
  {
   "cell_type": "code",
   "execution_count": 20,
   "metadata": {},
   "outputs": [
    {
     "data": {
      "image/png": "[encoded data removed]",
      "text/plain": [
       "<Figure size 432x288 with 2 Axes>"
      ]
     },
     "metadata": {
      "needs_background": "light"
     },
     "output_type": "display_data"
    }
   ],
   "source": [
    "ax = seaborn.heatmap(m)\n",
    "plt.show()"
   ]
  },
  {
   "cell_type": "markdown",
   "metadata": {},
   "source": [
    "You can see that this 8 by 3 loop design will be less stable than an 8 choose 3 combinatorial design, because each codes with more others. "
   ]
  },
  {
   "cell_type": "markdown",
   "metadata": {},
   "source": [
    "One can also assess the average Cohen's $\\kappa$ for all pairs of coders that have coded against one another:"
   ]
  },
  {
   "cell_type": "code",
   "execution_count": 21,
   "metadata": {},
   "outputs": [
    {
     "data": {
      "text/plain": [
       "0.40911598940065674"
      ]
     },
     "execution_count": 21,
     "metadata": {},
     "output_type": "execute_result"
    }
   ],
   "source": [
    "def pairwise_metric_average(metric, array):\n",
    "    \"\"\"Calculate the pairwise metric average for the real elements of metric function run on an array of annotations\"\"\"\n",
    "    p = permutations(range(array[0,:].size),2)\n",
    "    m = [metric(array[:,x[0]], array[:,x[1]]) for x in p]\n",
    "    clean_m = [c for c in m if not math.isnan(c)]\n",
    "    return reduce(lambda a, b: a + b, clean_m)/len(clean_m)    \n",
    " \n",
    "pairwise_metric_average(cohens_kappa, anno.annotations)"
   ]
  },
  {
   "cell_type": "markdown",
   "metadata": {},
   "source": [
    "As recognized with Krippendorff's flexible $\\alpha$, our scores are *not* categorical, but rather ordered and her considered metric. Weighted $\\kappa$ allows you to count disagreements differently and is useful when codes are ordered as they are here. Here a weight matrix is added to the calculation, in which off-diagonal cells contain weights indicating the seriousness of the disagreement between each score. When automatically produced, it simply produces an arithmetic distance (e.g., 3-1=2), such that cells one off the diagonal are weighted 1, two off 2, etc. Here\n",
    "\n",
    "$\\kappa = 1-\\frac{\\sum^k_{i=1}\\sum^k_{j=1}w_{ij}x_{ij}}{\\sum^k_{i=1}\\sum^k_{j=1}w_{ij}m_{ij}}$\n",
    "\n",
    "where $\\kappa$ = $n$ codes and $w_{ij}$,$x_{ij}$, and $m_{ij}$ represent elements in the weight, observed, and expected matrices, respectively. (Obviously, when diagonal cells contain weights of 0 and off-diagonal cells weights of 1, this equals $\\kappa$)."
   ]
  },
  {
   "cell_type": "code",
   "execution_count": 22,
   "metadata": {},
   "outputs": [
    {
     "data": {
      "text/plain": [
       "0.5330240507874497"
      ]
     },
     "execution_count": 22,
     "metadata": {},
     "output_type": "execute_result"
    }
   ],
   "source": [
    "cohens_weighted_kappa(anno.annotations[:,0], anno.annotations[:,1])"
   ]
  },
  {
   "cell_type": "markdown",
   "metadata": {},
   "source": [
    "Or averaged over the total:"
   ]
  },
  {
   "cell_type": "code",
   "execution_count": 23,
   "metadata": {},
   "outputs": [
    {
     "data": {
      "text/plain": [
       "0.5299113458717166"
      ]
     },
     "execution_count": 23,
     "metadata": {},
     "output_type": "execute_result"
    }
   ],
   "source": [
    "pairwise_metric_average(cohens_weighted_kappa,anno.annotations)"
   ]
  },
  {
   "cell_type": "markdown",
   "metadata": {},
   "source": [
    "Alternatively, if the annontation data can be understood as indicating real values, we can assess not agreement, but rather the correlation of values (Pearson's $\\rho$) or correlation of ranks (Spearman's $\\rho$) for pairs of coders:"
   ]
  },
  {
   "cell_type": "code",
   "execution_count": 24,
   "metadata": {},
   "outputs": [
    {
     "data": {
      "image/png": "[encoded data removed]",
      "text/plain": [
       "<Figure size 432x288 with 2 Axes>"
      ]
     },
     "metadata": {
      "needs_background": "light"
     },
     "output_type": "display_data"
    },
    {
     "data": {
      "image/png": "[encoded data removed]",
      "text/plain": [
       "<Figure size 432x288 with 2 Axes>"
      ]
     },
     "metadata": {
      "needs_background": "light"
     },
     "output_type": "display_data"
    }
   ],
   "source": [
    "n = pairwise_matrix(pearsons_rho, anno.annotations)\n",
    "m = pairwise_matrix(spearmans_rho, anno.annotations)\n",
    "an = seaborn.heatmap(n)\n",
    "plt.show()\n",
    "am = seaborn.heatmap(m)\n",
    "plt.show()"
   ]
  },
  {
   "cell_type": "markdown",
   "metadata": {},
   "source": [
    "Or averaged over all comparable pairs:"
   ]
  },
  {
   "cell_type": "code",
   "execution_count": 25,
   "metadata": {},
   "outputs": [
    {
     "name": "stdout",
     "output_type": "stream",
     "text": [
      "0.6517219321175077 0.63808488688039\n"
     ]
    }
   ],
   "source": [
    "print(pairwise_metric_average(pearsons_rho,anno.annotations), pairwise_metric_average(spearmans_rho,anno.annotations))"
   ]
  },
  {
   "cell_type": "markdown",
   "metadata": {},
   "source": [
    "## <span style=\"color:red\">*Your turn*</span>\n",
    "\n",
    "<span style=\"color:red\">Perform a content annotation survey of some kind in which at least 3 people evaluate and code each piece of content, using Amazon Mechanical Turk as described in the MTurk slides in the Assignment link on Canvas, or by hand with friends.  With the resulting data, calculate, visualize and discuss inter-coder agreement or covariation with appropriate metrics. What does this means for the reliability of human assessments regarding content in your domain?"
   ]
  },
  {
   "cell_type": "code",
   "execution_count": 76,
   "metadata": {},
   "outputs": [],
   "source": [
    "x = np.loadtxt('/Users/Sruti/Desktop/practice_surveyscores.txt')\n",
    "anno = AnnotationsContainer.from_array(x, missing_values=[-1])"
   ]
  },
  {
   "cell_type": "code",
   "execution_count": 75,
   "metadata": {},
   "outputs": [
    {
     "data": {
      "text/plain": [
       "array([[1, 2, 1, 1, 2, 3, 3, 3, 1],\n",
       "       [3, 2, 3, 1, 3, 1, 2, 1, 3],\n",
       "       [3, 0, 1, 3, 1, 1, 3, 2, 4],\n",
       "       [2, 3, 1, 2, 2, 2, 2, 1, 0],\n",
       "       [0, 2, 0, 2, 1, 2, 2, 3, 0],\n",
       "       [4, 1, 4, 2, 2, 0, 2, 1, 2],\n",
       "       [4, 2, 2, 3, 3, 0, 3, 2, 3],\n",
       "       [1, 1, 1, 3, 1, 3, 1, 1, 3],\n",
       "       [1, 2, 0, 3, 3, 0, 3, 3, 3],\n",
       "       [3, 0, 3, 4, 1, 4, 3, 2, 1],\n",
       "       [1, 0, 1, 0, 1, 1, 2, 1, 0],\n",
       "       [2, 4, 1, 4, 3, 2, 2, 4, 1]])"
      ]
     },
     "execution_count": 75,
     "metadata": {},
     "output_type": "execute_result"
    }
   ],
   "source": [
    "#converting data to the right format so I can put it back into text file\n",
    "#(columns = participants, rows = responses)\n",
    "arr1 = [[1, 3, 3, 2, 0, 4, 4, 1, 1, 3, 1, 2], \n",
    "        [2, 2, 0, 3, 2, 1, 2, 1, 2, 0, 0, 4], \n",
    "        [1, 3, 1, 1, 0, 4, 2, 1, 0, 3, 1, 1], \n",
    "        [1, 1, 3, 2, 2, 2, 3, 3, 3, 4, 0, 4], \n",
    "        [2, 3, 1, 2, 1, 2, 3, 1, 3, 1, 1, 3], \n",
    "        [3, 1, 1, 2, 2, 0, 0, 3, 0, 4, 1, 2], \n",
    "        [3, 2, 3, 2, 2, 2, 3, 1, 3, 3, 2, 2], \n",
    "        [3, 1, 2, 1, 3, 1, 2, 1, 3, 2, 1, 4], \n",
    "        [1, 3, 4, 0, 0, 2, 3, 3, 3, 1, 0, 1]]\n",
    "np.transpose(arr1)"
   ]
  },
  {
   "cell_type": "code",
   "execution_count": 77,
   "metadata": {},
   "outputs": [],
   "source": [
    "x = np.load"
   ]
  },
  {
   "cell_type": "code",
   "execution_count": 78,
   "metadata": {},
   "outputs": [
    {
     "data": {
      "text/plain": [
       "array([[1, 2, 1, 1, 2, 3, 3, 3, 1],\n",
       "       [3, 2, 3, 1, 3, 1, 2, 1, 3],\n",
       "       [3, 0, 1, 3, 1, 1, 3, 2, 4],\n",
       "       [2, 3, 1, 2, 2, 2, 2, 1, 0],\n",
       "       [0, 2, 0, 2, 1, 2, 2, 3, 0],\n",
       "       [4, 1, 4, 2, 2, 0, 2, 1, 2],\n",
       "       [4, 2, 2, 3, 3, 0, 3, 2, 3],\n",
       "       [1, 1, 1, 3, 1, 3, 1, 1, 3],\n",
       "       [1, 2, 0, 3, 3, 0, 3, 3, 3],\n",
       "       [3, 0, 3, 4, 1, 4, 3, 2, 1],\n",
       "       [1, 0, 1, 0, 1, 1, 2, 1, 0],\n",
       "       [2, 4, 1, 4, 3, 2, 2, 4, 1]])"
      ]
     },
     "execution_count": 78,
     "metadata": {},
     "output_type": "execute_result"
    }
   ],
   "source": [
    "anno.annotations"
   ]
  },
  {
   "cell_type": "code",
   "execution_count": 79,
   "metadata": {},
   "outputs": [
    {
     "data": {
      "text/plain": [
       "[0.0, 1.0, 2.0, 3.0, 4.0]"
      ]
     },
     "execution_count": 79,
     "metadata": {},
     "output_type": "execute_result"
    }
   ],
   "source": [
    "anno.labels"
   ]
  },
  {
   "cell_type": "code",
   "execution_count": 80,
   "metadata": {},
   "outputs": [
    {
     "data": {
      "text/plain": [
       "[]"
      ]
     },
     "execution_count": 80,
     "metadata": {},
     "output_type": "execute_result"
    }
   ],
   "source": [
    "anno.missing_values\n",
    "#I don't have any missing values, but if I did they would be labelled \"999\""
   ]
  },
  {
   "cell_type": "markdown",
   "metadata": {},
   "source": [
    "# Survey description\n",
    "\n",
    "* I sent participants (n = 9) 3 ~1 minute clips, and asked the following question about each of them. The songs I extracted clips from were Human Sadness by Julian Casablancas, Piano Quartet in A Minor by Gustav Mahler, and Ab Tohe Jane Naa Doongi from Bajirao Mastani.\n",
    "\n",
    "When you listened to track a, to what did degree did you feel the following four emotions?\n",
    "* Happiness-  \n",
    "Not at all (0) Small degree (1) Moderate degree (2) High degree (3) Very high degree (4)\n",
    "* Sadness-  \n",
    "Not at all (0) Small degree (1) Moderate degree (2) High degree (3) Very high degree (4)\n",
    "* Tension-  \n",
    "Not at all (0) Small degree (1) Moderate degree (2) High degree (3) Very high degree (4)\n",
    "* Peacefulness-  \n",
    "Not at all (0) Small degree (1) Moderate degree (2) High degree (3) Very high degree (4)\n",
    "\n",
    "When you listened to track b, to what did degree did you feel the following four emotions?\n",
    "\n",
    "\n",
    "* Happiness-  \n",
    "Not at all (0) Small degree (1) Moderate degree (2) High degree (3) Very high degree (4)\n",
    "* Sadness-  \n",
    "Not at all (0) Small degree (1) Moderate degree (2) High degree (3) Very high degree (4)\n",
    "* Tension-  \n",
    "Not at all (0) Small degree (1) Moderate degree (2) High degree (3) Very high degree (4)\n",
    "* Peacefulness-  \n",
    "Not at all (0) Small degree (1) Moderate degree (2) High degree (3) Very high degree (4)\n",
    "\n",
    "\n",
    "When you listened to track c, to what did degree did you feel the following four emotions?\n",
    "* Happiness-  \n",
    "Not at all (0) Small degree (1) Moderate degree (2) High degree (3) Very high degree (4)\n",
    "* Sadness-  \n",
    "Not at all (0) Small degree (1) Moderate degree (2) High degree (3) Very high degree (4)\n",
    "* Tension-  \n",
    "Not at all (0) Small degree (1) Moderate degree (2) High degree (3) Very high degree (4)\n",
    "* Peacefulness-  \n",
    "Not at all (0) Small degree (1) Moderate degree (2) High degree (3) Very high degree (4)"
   ]
  },
  {
   "cell_type": "markdown",
   "metadata": {},
   "source": [
    "# <span style=\"color:pink\"> Choosing inter-rater reliability measure:\n",
    "    \n",
    "* Scott’s pi is a measure of intercoder reliability in communication studies for nominal level data with just two coders; for more than 2 coders, use Fleiss' kappa \n",
    "\n",
    "* Cohen's kappa measures the agreement between two raters who each classify N items into C mutually exclusive categories. Meant for categorical data\n",
    "\n",
    "* Krippendorff's alpha is applicable to any number of coders, each assigning one value to one unit of analysis, to incomplete (missing) data, to any number of values available for coding a variable, to binary, nominal, ordinal, interval, ratio, polar, and circular metrics (levels of measurement), and it adjusts itself to small sample sizes of the reliability data. The virtue of a single coefficient with these variations is that computed reliabilities are comparable across any numbers of coders, values, different metrics, and unequal sample sizes.\n",
    "\n",
    "\n",
    "All this considered, Krippendorf's alpha would be the most appropriate given that I'm working with Likert-Scale data. However, as you can see below, my inter rater reliability is very low. This preliminary analysis indicates very diverse emotion perceptions generated by music.\n",
    "\n",
    "What does this means for the reliability of human assessments regarding content in your domain: given the subjectivity of the emotions music elicits, the reliability is low. However, with more specified and varied measures to supplement the Likert scale, we might be able to increase reliability. "
   ]
  },
  {
   "cell_type": "code",
   "execution_count": 81,
   "metadata": {},
   "outputs": [
    {
     "data": {
      "text/plain": [
       "array([0.12037037, 0.28703704, 0.25      , 0.25925926, 0.08333333])"
      ]
     },
     "execution_count": 81,
     "metadata": {},
     "output_type": "execute_result"
    }
   ],
   "source": [
    "#  frequency of codes\n",
    "pyanno.measures.agreement.labels_frequency(anno.annotations,4)"
   ]
  },
  {
   "cell_type": "code",
   "execution_count": 84,
   "metadata": {},
   "outputs": [
    {
     "data": {
      "text/plain": [
       "array([[1, 2, 1, 1, 2, 3, 3, 3, 1],\n",
       "       [3, 2, 3, 1, 3, 1, 2, 1, 3],\n",
       "       [3, 0, 1, 3, 1, 1, 3, 2, 4],\n",
       "       [2, 3, 1, 2, 2, 2, 2, 1, 0],\n",
       "       [0, 2, 0, 2, 1, 2, 2, 3, 0],\n",
       "       [4, 1, 4, 2, 2, 0, 2, 1, 2],\n",
       "       [4, 2, 2, 3, 3, 0, 3, 2, 3],\n",
       "       [1, 1, 1, 3, 1, 3, 1, 1, 3],\n",
       "       [1, 2, 0, 3, 3, 0, 3, 3, 3],\n",
       "       [3, 0, 3, 4, 1, 4, 3, 2, 1],\n",
       "       [1, 0, 1, 0, 1, 1, 2, 1, 0],\n",
       "       [2, 4, 1, 4, 3, 2, 2, 4, 1]])"
      ]
     },
     "execution_count": 84,
     "metadata": {},
     "output_type": "execute_result"
    }
   ],
   "source": [
    "anno.annotations[:]"
   ]
  },
  {
   "cell_type": "code",
   "execution_count": 85,
   "metadata": {},
   "outputs": [
    {
     "name": "stdout",
     "output_type": "stream",
     "text": [
      "[[1. 0. 0. 0. 0.]\n",
      " [1. 3. 0. 0. 0.]\n",
      " [0. 2. 0. 0. 0.]\n",
      " [0. 1. 0. 2. 0.]\n",
      " [0. 0. 1. 0. 1.]]\n"
     ]
    },
    {
     "data": {
      "image/png": "[encoded data removed]",
      "text/plain": [
       "<Figure size 432x288 with 2 Axes>"
      ]
     },
     "metadata": {
      "needs_background": "light"
     },
     "output_type": "display_data"
    }
   ],
   "source": [
    "c = pyanno.measures.agreement.confusion_matrix(anno.annotations[:,0], anno.annotations[:,2],5)\n",
    "print(c)\n",
    "ac = seaborn.heatmap(c)\n",
    "plt.show()\n",
    "#Interpretation of confusion matrix for two individuals:\n",
    "#These two individuals agreed on 7, and disagreed on 5 questions. Can generate for all pairs within dataset.\n",
    "#If I want to see more, would need to create a for loop (get every combination of pairs)"
   ]
  },
  {
   "cell_type": "code",
   "execution_count": 141,
   "metadata": {},
   "outputs": [
    {
     "data": {
      "text/plain": [
       "0.048657718120805354"
      ]
     },
     "execution_count": 141,
     "metadata": {},
     "output_type": "execute_result"
    }
   ],
   "source": [
    "fleiss_kappa(anno.annotations[::]) #Not necessarily appropriate for this type of data, but generated to see output"
   ]
  },
  {
   "cell_type": "code",
   "execution_count": 162,
   "metadata": {},
   "outputs": [
    {
     "data": {
      "text/plain": [
       "0.06956521739130417"
      ]
     },
     "execution_count": 162,
     "metadata": {},
     "output_type": "execute_result"
    }
   ],
   "source": [
    "krippendorffs_alpha(anno.annotations[::]) #well below 0.67, very low inter rater reliability."
   ]
  },
  {
   "cell_type": "code",
   "execution_count": 140,
   "metadata": {},
   "outputs": [
    {
     "data": {
      "text/plain": [
       "0.4444444444444445"
      ]
     },
     "execution_count": 140,
     "metadata": {},
     "output_type": "execute_result"
    }
   ],
   "source": [
    "cohens_kappa(anno.annotations[:,0], anno.annotations[:,2]) #Comparing across two individuals, moderate reliability"
   ]
  },
  {
   "cell_type": "code",
   "execution_count": 90,
   "metadata": {},
   "outputs": [
    {
     "name": "stdout",
     "output_type": "stream",
     "text": [
      "[[ 1.         -0.11864407  0.44444444  0.04424779  0.09433962  0.06086957\n",
      "   0.25663717 -0.12149533  0.04424779]\n",
      " [-0.11864407  1.         -0.01694915  0.06896552 -0.04347826 -0.18918919\n",
      "  -0.00934579  0.16521739 -0.1092437 ]\n",
      " [ 0.44444444 -0.01694915  1.         -0.12820513  0.06796117  0.03571429\n",
      "   0.01639344  0.07692308  0.12727273]\n",
      " [ 0.04424779  0.06896552 -0.12820513  1.          0.11926606  0.27586207\n",
      "   0.30769231  0.02702703  0.36842105]\n",
      " [ 0.09433962 -0.04347826  0.06796117  0.11926606  1.          0.03571429\n",
      "   0.16831683 -0.10204082  0.23636364]\n",
      " [ 0.06086957 -0.18918919  0.03571429  0.27586207  0.03571429  1.\n",
      "   0.15044248  0.04424779 -0.15789474]\n",
      " [ 0.25663717 -0.00934579  0.01639344  0.30769231  0.16831683  0.15044248\n",
      "   1.         -0.01886792  0.06086957]\n",
      " [-0.12149533  0.16521739  0.07692308  0.02702703 -0.10204082  0.04424779\n",
      "  -0.01886792  1.         -0.16814159]\n",
      " [ 0.04424779 -0.1092437   0.12727273  0.36842105  0.23636364 -0.15789474\n",
      "   0.06086957 -0.16814159  1.        ]]\n"
     ]
    }
   ],
   "source": [
    "m = pairwise_matrix(cohens_kappa, anno.annotations)\n",
    "print(m)\n",
    "#Comparing all the pairs of participants (and their answers) -> IRR"
   ]
  },
  {
   "cell_type": "code",
   "execution_count": 91,
   "metadata": {},
   "outputs": [
    {
     "data": {
      "image/png": "[encoded data removed]",
      "text/plain": [
       "<Figure size 432x288 with 2 Axes>"
      ]
     },
     "metadata": {
      "needs_background": "light"
     },
     "output_type": "display_data"
    }
   ],
   "source": [
    "ax = seaborn.heatmap(m)\n",
    "plt.show()\n",
    "#Plots pairwise cohen's kappa relationships throughout dataset (for all the pairs)\n",
    "#Not sure why negative cohen's kappa values aren't showing up on this heatmap, given the values\n",
    "#calculated in the cells below: \n",
    "#The pairwise matrix is showing us the inter rater reliability for each permutation of pairs of individuals within my dataset. In other words, it's comparing all the possible combinations of pairs within my sample and looking at the inter rater reliability (using Cohen's K)."
   ]
  },
  {
   "cell_type": "markdown",
   "metadata": {},
   "source": [
    "The pairwise matrix is showing us the inter rater reliability for each permutation of pairs of individuals within my dataset. In other words, it's comparing all the possible combinations of pairs within my sample and looking at the inter rater reliability (using Cohen's K)."
   ]
  },
  {
   "cell_type": "code",
   "execution_count": 92,
   "metadata": {},
   "outputs": [
    {
     "data": {
      "text/plain": [
       "0.058721149706292275"
      ]
     },
     "execution_count": 92,
     "metadata": {},
     "output_type": "execute_result"
    }
   ],
   "source": [
    "def pairwise_metric_average(metric, array):\n",
    "    \"\"\"Calculate the pairwise metric average for the real elements of metric function run on an array of annotations\"\"\"\n",
    "    p = permutations(range(array[0,:].size),2)\n",
    "    m = [metric(array[:,x[0]], array[:,x[1]]) for x in p]\n",
    "    clean_m = [c for c in m if not math.isnan(c)]\n",
    "    return reduce(lambda a, b: a + b, clean_m)/len(clean_m)    \n",
    " \n",
    "pairwise_metric_average(cohens_kappa, anno.annotations)\n",
    "#Below is the average Cohens Kappa value across pairs across the dataset. \n",
    "#0.05 corresponds to \"none to slight agreement\""
   ]
  },
  {
   "cell_type": "code",
   "execution_count": 93,
   "metadata": {},
   "outputs": [
    {
     "data": {
      "text/plain": [
       "-0.15384615384615374"
      ]
     },
     "execution_count": 93,
     "metadata": {},
     "output_type": "execute_result"
    }
   ],
   "source": [
    "cohens_weighted_kappa(anno.annotations[:,0], anno.annotations[:,1])"
   ]
  },
  {
   "cell_type": "code",
   "execution_count": 94,
   "metadata": {},
   "outputs": [
    {
     "data": {
      "text/plain": [
       "0.056866538517170086"
      ]
     },
     "execution_count": 94,
     "metadata": {},
     "output_type": "execute_result"
    }
   ],
   "source": [
    "pairwise_metric_average(cohens_weighted_kappa,anno.annotations)\n",
    "#0.05 corresponds to \"none to slight agreement, across pairs"
   ]
  },
  {
   "cell_type": "code",
   "execution_count": 142,
   "metadata": {},
   "outputs": [
    {
     "data": {
      "image/png": "[encoded data removed]",
      "text/plain": [
       "<Figure size 432x288 with 2 Axes>"
      ]
     },
     "metadata": {
      "needs_background": "light"
     },
     "output_type": "display_data"
    },
    {
     "data": {
      "image/png": "[encoded data removed]",
      "text/plain": [
       "<Figure size 432x288 with 2 Axes>"
      ]
     },
     "metadata": {
      "needs_background": "light"
     },
     "output_type": "display_data"
    }
   ],
   "source": [
    "#The heatmaps show all the correlations within the data within all possible pairs. \n",
    "#The closer to 1 (white) means that the participants had more overlap, which is desirable.\n",
    "#For example, in the first column, participant 0 and participant 2 have a lot of overlap in their answers overall\n",
    "n = pairwise_matrix(pearsons_rho, anno.annotations)\n",
    "m = pairwise_matrix(spearmans_rho, anno.annotations)\n",
    "an = seaborn.heatmap(n)\n",
    "plt.show()\n",
    "am = seaborn.heatmap(m)\n",
    "plt.show()"
   ]
  },
  {
   "cell_type": "code",
   "execution_count": 95,
   "metadata": {},
   "outputs": [
    {
     "name": "stdout",
     "output_type": "stream",
     "text": [
      "0.09031269985436276 0.09131138694416467\n"
     ]
    }
   ],
   "source": [
    "print(pairwise_metric_average(pearsons_rho,anno.annotations), pairwise_metric_average(spearmans_rho,anno.annotations))"
   ]
  },
  {
   "cell_type": "markdown",
   "metadata": {},
   "source": [
    "## <span style=\"color:red\">*Your turn*</span>\n",
    "\n",
    "<span style=\"color:red\">In the cells immediately following, use the results of your content annotation survey to predict high and low-quality analysts, then predict MAP estimates for your codes in question. What do these estimates suggest about the distribution of skill among your coders? How different are these estimates from a majority vote?"
   ]
  },
  {
   "cell_type": "markdown",
   "metadata": {},
   "source": [
    "# Models"
   ]
  },
  {
   "cell_type": "markdown",
   "metadata": {},
   "source": [
    "However, what if some coders are better than others. The prior measures all rely on the assumption that all coders are equally good. What if some are worse than others? Now we use Rzhetsky et al (2009) and Dawid & Skene's models to make inference about true label classes by downweighting bad or deviant coders. Pyanno provides three relevant models: ModelA, ModelB, and ModelBt. Model A can only be currently run on a balanced 8-coder design, but assesses accuracy purely based on agreement. Model B with $\\theta$s models the relationship between each coder and code. Model B is the Dawid & Skene model from the reading. The following image schematically suggests the relationship between the models. <img src=\"../data/models.png\">"
   ]
  },
  {
   "cell_type": "markdown",
   "metadata": {},
   "source": [
    "The models should provide similar results. To estimate the parameters for any models, we first need to create a new model. "
   ]
  },
  {
   "cell_type": "code",
   "execution_count": 99,
   "metadata": {
    "scrolled": true
   },
   "outputs": [
    {
     "name": "stdout",
     "output_type": "stream",
     "text": [
      "[[[0.780922   0.08115122 0.07625948 0.00085284 0.06081446]\n",
      "  [0.18905873 0.63544852 0.12894451 0.03788098 0.00866727]\n",
      "  [0.03272836 0.1186338  0.57145909 0.22304651 0.05413223]\n",
      "  [0.06198766 0.16392047 0.05443252 0.638521   0.08113834]\n",
      "  [0.0762461  0.00186579 0.03976931 0.17542279 0.70669602]]\n",
      "\n",
      " [[0.67969368 0.1740431  0.10438662 0.02600798 0.01586862]\n",
      "  [0.16827001 0.59558928 0.18170189 0.03981405 0.01462478]\n",
      "  [0.11722797 0.16084846 0.50546704 0.16833795 0.04811859]\n",
      "  [0.05055227 0.05168411 0.10164986 0.69907885 0.09703492]\n",
      "  [0.00569565 0.06500207 0.04247799 0.22169344 0.66513085]]\n",
      "\n",
      " [[0.73306926 0.06925336 0.05577902 0.0660085  0.07588985]\n",
      "  [0.12054026 0.68512629 0.05233862 0.12379382 0.01820101]\n",
      "  [0.01054388 0.13673677 0.55174277 0.22327452 0.07770206]\n",
      "  [0.01768304 0.0519551  0.25153437 0.61347251 0.06535498]\n",
      "  [0.00137076 0.14415764 0.11373177 0.1188282  0.62191164]]\n",
      "\n",
      " [[0.73725967 0.11463369 0.06097134 0.05866571 0.02846958]\n",
      "  [0.13559968 0.58845744 0.12850478 0.06900176 0.07843635]\n",
      "  [0.08753573 0.1581579  0.44293372 0.24136051 0.07001214]\n",
      "  [0.03165532 0.10757041 0.10803653 0.57313291 0.17960483]\n",
      "  [0.01808451 0.01336169 0.1283625  0.12036955 0.71982175]]\n",
      "\n",
      " [[0.43237025 0.41687479 0.05249045 0.07002524 0.02823927]\n",
      "  [0.13506445 0.60570776 0.18126105 0.04666511 0.03130162]\n",
      "  [0.06084791 0.04291642 0.5462534  0.21774859 0.13223368]\n",
      "  [0.03700054 0.05720256 0.11622839 0.60094069 0.18862782]\n",
      "  [0.00827399 0.04046327 0.08203339 0.13359378 0.73563556]]\n",
      "\n",
      " [[0.670634   0.1809548  0.07241996 0.06089395 0.01509729]\n",
      "  [0.15825869 0.64112113 0.13425971 0.0330272  0.03333327]\n",
      "  [0.06097167 0.06396049 0.58017494 0.15995329 0.13493961]\n",
      "  [0.01033449 0.03483524 0.11707353 0.69903454 0.1387222 ]\n",
      "  [0.02482449 0.04054293 0.04118621 0.36725764 0.52618872]]\n",
      "\n",
      " [[0.59365813 0.21728851 0.12518048 0.04562335 0.01824953]\n",
      "  [0.12155475 0.60619752 0.10662588 0.1142651  0.05135676]\n",
      "  [0.0383723  0.15478283 0.54373298 0.17184954 0.09126234]\n",
      "  [0.0021187  0.09740443 0.17211349 0.4244294  0.30393398]\n",
      "  [0.01030353 0.06331318 0.04330594 0.15288971 0.73018763]]\n",
      "\n",
      " [[0.7642459  0.09659588 0.02320934 0.01571362 0.10023526]\n",
      "  [0.11115937 0.68415044 0.11563356 0.08406365 0.00499298]\n",
      "  [0.10909681 0.13616721 0.48309612 0.12156265 0.15007721]\n",
      "  [0.08905476 0.06651199 0.15321004 0.51719939 0.17402381]\n",
      "  [0.02880047 0.05886283 0.12790966 0.04142134 0.74300569]]\n",
      "\n",
      " [[0.69552577 0.20389475 0.03749887 0.05412227 0.00895834]\n",
      "  [0.13212612 0.62961669 0.18737038 0.03498256 0.01590424]\n",
      "  [0.04491602 0.20658663 0.5053671  0.14362279 0.09950746]\n",
      "  [0.03451041 0.03250545 0.10791529 0.72779791 0.09727094]\n",
      "  [0.06198915 0.05361257 0.04252435 0.20949661 0.63237732]]]\n",
      "-190.27063853374992\n"
     ]
    }
   ],
   "source": [
    "# create a new instance of model, with 5 label classes\n",
    "model = ModelB.create_initial_state(5, 9) #I have five classes and nine participants\n",
    "# other model parameters are initialized from the model prior\n",
    "print(model.theta) #will use later when extrapolating \"true\" answers to these questions\n",
    "#estimate parameters based on our data\n",
    "print(model.log_likelihood(anno.annotations)) "
   ]
  },
  {
   "cell_type": "code",
   "execution_count": 164,
   "metadata": {},
   "outputs": [
    {
     "name": "stdout",
     "output_type": "stream",
     "text": [
      "[0.66137431 0.18608489 0.60270203 0.51586435 0.68329285 0.45278202\n",
      " 0.80068866 0.35419926 0.43746123]\n"
     ]
    }
   ],
   "source": [
    "print(model.theta)\n",
    "#MAP estimates generated below"
   ]
  },
  {
   "cell_type": "code",
   "execution_count": 158,
   "metadata": {},
   "outputs": [
    {
     "data": {
      "text/plain": [
       "array([[0.55580278, 0.14875217, 0.44707491, 0.65450643, 0.69395482,\n",
       "        0.36702909, 0.80136392, 0.20641127, 0.46487972],\n",
       "       [0.55580278, 0.14875217, 0.44707491, 0.65450643, 0.69395482,\n",
       "        0.36702909, 0.80136392, 0.20641127, 0.46487972],\n",
       "       [0.55580278, 0.14875217, 0.44707491, 0.65450643, 0.69395482,\n",
       "        0.36702909, 0.80136392, 0.20641127, 0.46487972],\n",
       "       [0.55580278, 0.14875217, 0.44707491, 0.65450643, 0.69395482,\n",
       "        0.36702909, 0.80136392, 0.20641127, 0.46487972],\n",
       "       [0.55580278, 0.14875217, 0.44707491, 0.65450643, 0.69395482,\n",
       "        0.36702909, 0.80136392, 0.20641127, 0.46487972]])"
      ]
     },
     "execution_count": 158,
     "metadata": {},
     "output_type": "execute_result"
    }
   ],
   "source": [
    "samples = model.sample_posterior_over_accuracy(anno.annotations, 5, burn_in_samples=100, thin_samples=3)\n",
    "samples"
   ]
  },
  {
   "cell_type": "markdown",
   "metadata": {},
   "source": [
    "Pyanno allows one to use either MLE (maximum likelihood estimation) or MAP (maximum a posteriori estimation) to estimate model parameters. Note that the parameters here correspond to our estimation of the accuracy of each annotator."
   ]
  },
  {
   "cell_type": "code",
   "execution_count": 103,
   "metadata": {},
   "outputs": [
    {
     "name": "stdout",
     "output_type": "stream",
     "text": [
      "[[[7.89473684e-001 1.57894737e-001 5.26315789e-002 0.00000000e+000\n",
      "   0.00000000e+000]\n",
      "  [1.21513238e-001 7.16832430e-001 1.21088589e-001 4.05657436e-002\n",
      "   3.78574144e-084]\n",
      "  [7.32770242e-002 1.14985231e-001 6.25157423e-001 1.12485097e-001\n",
      "   7.40952243e-002]\n",
      "  [0.00000000e+000 7.79981466e-002 1.12157405e-001 6.62525585e-001\n",
      "   1.47318864e-001]\n",
      "  [0.00000000e+000 0.00000000e+000 5.26315789e-002 1.57894737e-001\n",
      "   7.89473684e-001]]\n",
      "\n",
      " [[7.89473684e-001 1.57894737e-001 5.26315789e-002 0.00000000e+000\n",
      "   0.00000000e+000]\n",
      "  [1.61372377e-001 6.45477367e-001 1.52749810e-001 4.04004457e-002\n",
      "   0.00000000e+000]\n",
      "  [3.70624766e-002 1.47427617e-001 5.95793158e-001 1.47381469e-001\n",
      "   7.23352797e-002]\n",
      "  [7.36481177e-002 3.69553575e-002 2.23370558e-001 5.53868562e-001\n",
      "   1.12157405e-001]\n",
      "  [0.00000000e+000 0.00000000e+000 5.26315789e-002 1.57894737e-001\n",
      "   7.89473684e-001]]\n",
      "\n",
      " [[7.89473684e-001 1.57894737e-001 5.26315789e-002 0.00000000e+000\n",
      "   0.00000000e+000]\n",
      "  [1.21521604e-001 7.16880438e-001 1.21032214e-001 4.05657436e-002\n",
      "   0.00000000e+000]\n",
      "  [7.33397952e-002 1.87349173e-001 5.53268034e-001 1.12342161e-001\n",
      "   7.37008368e-002]\n",
      "  [3.68540301e-002 7.93091860e-002 1.47303186e-001 6.25744208e-001\n",
      "   1.10789390e-001]\n",
      "  [0.00000000e+000 0.00000000e+000 5.26315789e-002 1.57894737e-001\n",
      "   7.89473684e-001]]\n",
      "\n",
      " [[7.89473684e-001 1.57894737e-001 5.26315789e-002 0.00000000e+000\n",
      "   0.00000000e+000]\n",
      "  [1.61372377e-001 6.36389277e-001 1.21569612e-001 8.06687331e-002\n",
      "   0.00000000e+000]\n",
      "  [3.68618139e-002 1.16618301e-001 6.62941761e-001 1.11185118e-001\n",
      "   7.23930062e-002]\n",
      "  [0.00000000e+000 7.61379130e-002 1.10789390e-001 6.64048552e-001\n",
      "   1.49024145e-001]\n",
      "  [0.00000000e+000 0.00000000e+000 5.26315789e-002 1.57894737e-001\n",
      "   7.89473684e-001]]\n",
      "\n",
      " [[7.89473684e-001 1.57894737e-001 5.26315789e-002 0.00000000e+000\n",
      "   0.00000000e+000]\n",
      "  [1.21032214e-001 6.86298554e-001 1.52095123e-001 4.05741094e-002\n",
      "   0.00000000e+000]\n",
      "  [3.68582431e-002 1.47208038e-001 6.30856847e-001 1.48218629e-001\n",
      "   3.68582431e-002]\n",
      "  [0.00000000e+000 1.10587798e-001 1.14993827e-001 6.63644663e-001\n",
      "   1.10773712e-001]\n",
      "  [0.00000000e+000 0.00000000e+000 5.26315789e-002 1.57894737e-001\n",
      "   7.89473684e-001]]\n",
      "\n",
      " [[7.89473684e-001 1.57894737e-001 5.26315789e-002 0.00000000e+000\n",
      "   0.00000000e+000]\n",
      "  [1.21040580e-001 6.45722906e-001 1.21569612e-001 1.11666902e-001\n",
      "   0.00000000e+000]\n",
      "  [7.41579954e-002 1.12430941e-001 6.61576204e-001 1.14918890e-001\n",
      "   3.69159696e-002]\n",
      "  [7.33991812e-002 1.08714854e-001 1.12157405e-001 5.58088108e-001\n",
      "   1.47640453e-001]\n",
      "  [0.00000000e+000 0.00000000e+000 5.26315789e-002 1.57894737e-001\n",
      "   7.89473684e-001]]\n",
      "\n",
      " [[7.89473684e-001 1.57894737e-001 5.26315789e-002 0.00000000e+000\n",
      "   0.00000000e+000]\n",
      "  [1.21032214e-001 6.45477367e-001 1.62131447e-001 7.13589714e-002\n",
      "   0.00000000e+000]\n",
      "  [3.68582431e-002 1.10585023e-001 7.00132073e-001 1.15566417e-001\n",
      "   3.68582431e-002]\n",
      "  [0.00000000e+000 3.69396800e-002 1.47181988e-001 7.05104620e-001\n",
      "   1.10773712e-001]\n",
      "  [0.00000000e+000 0.00000000e+000 5.26315789e-002 1.57894737e-001\n",
      "   7.89473684e-001]]\n",
      "\n",
      " [[7.89473684e-001 1.57894737e-001 5.26315789e-002 5.40856963e-302\n",
      "   0.00000000e+000]\n",
      "  [1.21032214e-001 6.86095576e-001 1.21032214e-001 7.18399952e-002\n",
      "   0.00000000e+000]\n",
      "  [3.68582431e-002 1.85947632e-001 5.53468697e-001 1.51390148e-001\n",
      "   7.23352797e-002]\n",
      "  [0.00000000e+000 7.19642631e-002 2.20951304e-001 5.94927029e-001\n",
      "   1.12157405e-001]\n",
      "  [0.00000000e+000 0.00000000e+000 5.26315789e-002 1.57894737e-001\n",
      "   7.89473684e-001]]\n",
      "\n",
      " [[7.89473684e-001 1.57894737e-001 5.26315789e-002 0.00000000e+000\n",
      "   0.00000000e+000]\n",
      "  [1.61909775e-001 6.36167605e-001 1.21032214e-001 8.08904052e-002\n",
      "   6.96098138e-022]\n",
      "  [1.10087335e-001 1.50443359e-001 5.89716241e-001 1.12751887e-001\n",
      "   3.70011794e-002]\n",
      "  [2.00983569e-073 7.93794399e-002 1.10789390e-001 6.62276080e-001\n",
      "   1.47555090e-001]\n",
      "  [0.00000000e+000 0.00000000e+000 5.26315789e-002 1.57894737e-001\n",
      "   7.89473684e-001]]]\n",
      "-157.99611759865857\n"
     ]
    }
   ],
   "source": [
    "model.map(anno.annotations)\n",
    "print(model.theta)\n",
    "print(model.log_likelihood(anno.annotations))"
   ]
  },
  {
   "cell_type": "code",
   "execution_count": 166,
   "metadata": {},
   "outputs": [
    {
     "name": "stdout",
     "output_type": "stream",
     "text": [
      "[0.66137431 0.18608489 0.60270203 0.51586435 0.68329285 0.45278202\n",
      " 0.80068866 0.35419926 0.43746123]\n"
     ]
    }
   ],
   "source": [
    "print(model.theta)"
   ]
  },
  {
   "cell_type": "code",
   "execution_count": 104,
   "metadata": {},
   "outputs": [
    {
     "name": "stdout",
     "output_type": "stream",
     "text": [
      "[[[7.89473684e-001 1.57894737e-001 5.26315789e-002 0.00000000e+000\n",
      "   0.00000000e+000]\n",
      "  [1.21513238e-001 7.16832430e-001 1.21088589e-001 4.05657436e-002\n",
      "   3.78574144e-084]\n",
      "  [7.32770242e-002 1.14985231e-001 6.25157423e-001 1.12485097e-001\n",
      "   7.40952243e-002]\n",
      "  [0.00000000e+000 7.79981466e-002 1.12157405e-001 6.62525585e-001\n",
      "   1.47318864e-001]\n",
      "  [0.00000000e+000 0.00000000e+000 5.26315789e-002 1.57894737e-001\n",
      "   7.89473684e-001]]\n",
      "\n",
      " [[7.89473684e-001 1.57894737e-001 5.26315789e-002 0.00000000e+000\n",
      "   0.00000000e+000]\n",
      "  [1.61372377e-001 6.45477367e-001 1.52749810e-001 4.04004457e-002\n",
      "   0.00000000e+000]\n",
      "  [3.70624766e-002 1.47427617e-001 5.95793158e-001 1.47381469e-001\n",
      "   7.23352797e-002]\n",
      "  [7.36481177e-002 3.69553575e-002 2.23370558e-001 5.53868562e-001\n",
      "   1.12157405e-001]\n",
      "  [0.00000000e+000 0.00000000e+000 5.26315789e-002 1.57894737e-001\n",
      "   7.89473684e-001]]\n",
      "\n",
      " [[7.89473684e-001 1.57894737e-001 5.26315789e-002 0.00000000e+000\n",
      "   0.00000000e+000]\n",
      "  [1.21521604e-001 7.16880438e-001 1.21032214e-001 4.05657436e-002\n",
      "   0.00000000e+000]\n",
      "  [7.33397952e-002 1.87349173e-001 5.53268034e-001 1.12342161e-001\n",
      "   7.37008368e-002]\n",
      "  [3.68540301e-002 7.93091860e-002 1.47303186e-001 6.25744208e-001\n",
      "   1.10789390e-001]\n",
      "  [0.00000000e+000 0.00000000e+000 5.26315789e-002 1.57894737e-001\n",
      "   7.89473684e-001]]\n",
      "\n",
      " [[7.89473684e-001 1.57894737e-001 5.26315789e-002 0.00000000e+000\n",
      "   0.00000000e+000]\n",
      "  [1.61372377e-001 6.36389277e-001 1.21569612e-001 8.06687331e-002\n",
      "   0.00000000e+000]\n",
      "  [3.68618139e-002 1.16618301e-001 6.62941761e-001 1.11185118e-001\n",
      "   7.23930062e-002]\n",
      "  [0.00000000e+000 7.61379130e-002 1.10789390e-001 6.64048552e-001\n",
      "   1.49024145e-001]\n",
      "  [0.00000000e+000 0.00000000e+000 5.26315789e-002 1.57894737e-001\n",
      "   7.89473684e-001]]\n",
      "\n",
      " [[7.89473684e-001 1.57894737e-001 5.26315789e-002 0.00000000e+000\n",
      "   0.00000000e+000]\n",
      "  [1.21032214e-001 6.86298554e-001 1.52095123e-001 4.05741094e-002\n",
      "   0.00000000e+000]\n",
      "  [3.68582431e-002 1.47208038e-001 6.30856847e-001 1.48218629e-001\n",
      "   3.68582431e-002]\n",
      "  [0.00000000e+000 1.10587798e-001 1.14993827e-001 6.63644663e-001\n",
      "   1.10773712e-001]\n",
      "  [0.00000000e+000 0.00000000e+000 5.26315789e-002 1.57894737e-001\n",
      "   7.89473684e-001]]\n",
      "\n",
      " [[7.89473684e-001 1.57894737e-001 5.26315789e-002 0.00000000e+000\n",
      "   0.00000000e+000]\n",
      "  [1.21040580e-001 6.45722906e-001 1.21569612e-001 1.11666902e-001\n",
      "   0.00000000e+000]\n",
      "  [7.41579954e-002 1.12430941e-001 6.61576204e-001 1.14918890e-001\n",
      "   3.69159696e-002]\n",
      "  [7.33991812e-002 1.08714854e-001 1.12157405e-001 5.58088108e-001\n",
      "   1.47640453e-001]\n",
      "  [0.00000000e+000 0.00000000e+000 5.26315789e-002 1.57894737e-001\n",
      "   7.89473684e-001]]\n",
      "\n",
      " [[7.89473684e-001 1.57894737e-001 5.26315789e-002 0.00000000e+000\n",
      "   0.00000000e+000]\n",
      "  [1.21032214e-001 6.45477367e-001 1.62131447e-001 7.13589714e-002\n",
      "   0.00000000e+000]\n",
      "  [3.68582431e-002 1.10585023e-001 7.00132073e-001 1.15566417e-001\n",
      "   3.68582431e-002]\n",
      "  [0.00000000e+000 3.69396800e-002 1.47181988e-001 7.05104620e-001\n",
      "   1.10773712e-001]\n",
      "  [0.00000000e+000 0.00000000e+000 5.26315789e-002 1.57894737e-001\n",
      "   7.89473684e-001]]\n",
      "\n",
      " [[7.89473684e-001 1.57894737e-001 5.26315789e-002 5.40856963e-302\n",
      "   0.00000000e+000]\n",
      "  [1.21032214e-001 6.86095576e-001 1.21032214e-001 7.18399952e-002\n",
      "   0.00000000e+000]\n",
      "  [3.68582431e-002 1.85947632e-001 5.53468697e-001 1.51390148e-001\n",
      "   7.23352797e-002]\n",
      "  [0.00000000e+000 7.19642631e-002 2.20951304e-001 5.94927029e-001\n",
      "   1.12157405e-001]\n",
      "  [0.00000000e+000 0.00000000e+000 5.26315789e-002 1.57894737e-001\n",
      "   7.89473684e-001]]\n",
      "\n",
      " [[7.89473684e-001 1.57894737e-001 5.26315789e-002 0.00000000e+000\n",
      "   0.00000000e+000]\n",
      "  [1.61909775e-001 6.36167605e-001 1.21032214e-001 8.08904052e-002\n",
      "   6.96098138e-022]\n",
      "  [1.10087335e-001 1.50443359e-001 5.89716241e-001 1.12751887e-001\n",
      "   3.70011794e-002]\n",
      "  [2.00983569e-073 7.93794399e-002 1.10789390e-001 6.62276080e-001\n",
      "   1.47555090e-001]\n",
      "  [0.00000000e+000 0.00000000e+000 5.26315789e-002 1.57894737e-001\n",
      "   7.89473684e-001]]]\n",
      "-157.99611759865857\n"
     ]
    }
   ],
   "source": [
    "model = ModelB.create_initial_state(5, 9)\n",
    "model.map(anno.annotations)\n",
    "print(model.theta)\n",
    "print(model.log_likelihood(anno.annotations))"
   ]
  },
  {
   "cell_type": "markdown",
   "metadata": {},
   "source": [
    "Once we have model parameters estimated, we can now make inferences about the true label classes. We can calculate the posterior distribution over the true label classes."
   ]
  },
  {
   "cell_type": "code",
   "execution_count": 105,
   "metadata": {},
   "outputs": [
    {
     "name": "stdout",
     "output_type": "stream",
     "text": [
      "[[0.00000000e+00 7.68523283e-01 1.17595783e-01 1.13880934e-01\n",
      "  0.00000000e+00]\n",
      " [0.00000000e+00 5.49436540e-03 4.63855088e-02 9.48120126e-01\n",
      "  0.00000000e+00]\n",
      " [0.00000000e+00 7.75699612e-22 3.87799631e-03 9.96122004e-01\n",
      "  0.00000000e+00]\n",
      " [0.00000000e+00 1.39731014e-03 9.98602690e-01 2.68972657e-76\n",
      "  0.00000000e+00]\n",
      " [0.00000000e+00 1.19224526e-02 9.88077547e-01 0.00000000e+00\n",
      "  0.00000000e+00]\n",
      " [0.00000000e+00 0.00000000e+00 9.99575413e-01 4.24586680e-04\n",
      "  0.00000000e+00]\n",
      " [0.00000000e+00 6.49574906e-88 1.07001612e-02 9.89299839e-01\n",
      "  0.00000000e+00]\n",
      " [0.00000000e+00 9.99311504e-01 2.79287403e-04 4.09208792e-04\n",
      "  0.00000000e+00]\n",
      " [0.00000000e+00 2.07343040e-04 1.70304658e-03 9.98089610e-01\n",
      "  0.00000000e+00]\n",
      " [0.00000000e+00 0.00000000e+00 1.56617579e-03 9.98433824e-01\n",
      "  0.00000000e+00]\n",
      " [1.31949708e-36 9.99903121e-01 9.68789625e-05 0.00000000e+00\n",
      "  0.00000000e+00]\n",
      " [0.00000000e+00 0.00000000e+00 9.62525877e-01 3.74741229e-02\n",
      "  0.00000000e+00]]\n"
     ]
    }
   ],
   "source": [
    "posterior = model.infer_labels(anno.annotations)\n",
    "print(posterior)"
   ]
  },
  {
   "cell_type": "markdown",
   "metadata": {},
   "source": [
    "Let's turn the posterior of the first 100 samples into a heatmap."
   ]
  },
  {
   "cell_type": "code",
   "execution_count": 147,
   "metadata": {},
   "outputs": [
    {
     "data": {
      "text/plain": [
       "array([[0, 4, 2, 3, 0],\n",
       "       [0, 3, 2, 4, 0],\n",
       "       [1, 3, 1, 3, 1],\n",
       "       [1, 2, 5, 1, 0],\n",
       "       [3, 1, 4, 1, 0],\n",
       "       [1, 2, 4, 0, 2],\n",
       "       [1, 0, 3, 4, 1],\n",
       "       [0, 6, 0, 3, 0],\n",
       "       [2, 1, 1, 5, 0],\n",
       "       [1, 2, 1, 3, 2],\n",
       "       [3, 5, 1, 0, 0],\n",
       "       [0, 2, 3, 1, 3]])"
      ]
     },
     "execution_count": 147,
     "metadata": {},
     "output_type": "execute_result"
    }
   ],
   "source": [
    "votes = []\n",
    "for r in anno.annotations:\n",
    "    v = [0] * len(anno.labels)\n",
    "    votes.append(v)\n",
    "    for a in r:\n",
    "        if a > -1:\n",
    "            v[a] += 1\n",
    "votes_array = np.array(votes)\n",
    "votes_array"
   ]
  },
  {
   "cell_type": "code",
   "execution_count": 148,
   "metadata": {},
   "outputs": [
    {
     "data": {
      "text/plain": [
       "array([[1, 2, 1, 1, 2, 3, 3, 3, 1],\n",
       "       [3, 2, 3, 1, 3, 1, 2, 1, 3],\n",
       "       [3, 0, 1, 3, 1, 1, 3, 2, 4],\n",
       "       [2, 3, 1, 2, 2, 2, 2, 1, 0],\n",
       "       [0, 2, 0, 2, 1, 2, 2, 3, 0],\n",
       "       [4, 1, 4, 2, 2, 0, 2, 1, 2],\n",
       "       [4, 2, 2, 3, 3, 0, 3, 2, 3],\n",
       "       [1, 1, 1, 3, 1, 3, 1, 1, 3],\n",
       "       [1, 2, 0, 3, 3, 0, 3, 3, 3],\n",
       "       [3, 0, 3, 4, 1, 4, 3, 2, 1],\n",
       "       [1, 0, 1, 0, 1, 1, 2, 1, 0],\n",
       "       [2, 4, 1, 4, 3, 2, 2, 4, 1]])"
      ]
     },
     "execution_count": 148,
     "metadata": {},
     "output_type": "execute_result"
    }
   ],
   "source": [
    "#The above output corresponds to the most likely values for a specific question in my survey. However,\n",
    "#I don't understand why there are values present that are greater than four.\n",
    "\n",
    "anno.annotations"
   ]
  },
  {
   "cell_type": "code",
   "execution_count": 108,
   "metadata": {},
   "outputs": [
    {
     "data": {
      "image/png": "[encoded data removed]",
      "text/plain": [
       "<Figure size 1080x720 with 4 Axes>"
      ]
     },
     "metadata": {
      "needs_background": "light"
     },
     "output_type": "display_data"
    }
   ],
   "source": [
    "fig, (ax1, ax2) = plt.subplots(ncols=2, figsize = (15, 10), sharey=True)\n",
    "num_questions = 12\n",
    "\n",
    "seaborn.heatmap(votes_array[:num_questions], annot = True, ax=ax2)\n",
    "seaborn.heatmap(posterior[:num_questions], annot=True, ax =ax1)\n",
    "ax1.set_title(\"Model\")\n",
    "ax2.set_title(\"Votes\")\n",
    "plt.show()"
   ]
  },
  {
   "cell_type": "code",
   "execution_count": 149,
   "metadata": {},
   "outputs": [],
   "source": [
    "#For model b:\n",
    "\n",
    "#Sum of each row of the votes totals the number of participants who responded to my survey. \n",
    "#The heatmap on the left respresents posterior probabilities while the heatmap on the right\n",
    "#corresponds to freqencies.\n",
    "#Modelb is certain that the \"true answer\" for question 3 is 2 (the white squares correspond to more certainty)\n",
    "#The relationship between majority vote and the estimates is interesting. THe fourth column and second row value,\n",
    "#\"4\" in the vote frequency heatmap, corersponds to a probability of .95 (more specifically, 95% probability\n",
    "#that it's the \"true answer\"). - which makes sense, given that 4 is a lot\n",
    "#of votes. However, there are also cases where comparatively lower numbers of votes correspond to higher \n",
    "#probabilities, like column 2, row 5 in the voter heat map, voter count 1, corresponds to a higher corresponding\n",
    "#probabilty (0.012) than its neighbor to the left, 3 (0 prob). This makes sense given that there are \n",
    "#multiple factors that the model is using to predict the \"true value\" for a question, not just voter frequency\n",
    "#(or, majority vote).\n"
   ]
  },
  {
   "cell_type": "markdown",
   "metadata": {},
   "source": [
    "This differs markedly from taking annotator scores at face value (Add comparison of average values)"
   ]
  },
  {
   "cell_type": "code",
   "execution_count": 109,
   "metadata": {},
   "outputs": [
    {
     "name": "stdout",
     "output_type": "stream",
     "text": [
      "[[[0.68345722 0.1409645  0.08256458 0.04109471 0.05191899]\n",
      "  [0.11403459 0.59526835 0.20184637 0.06695122 0.02189946]\n",
      "  [0.07007752 0.10661518 0.59282338 0.13603291 0.09445102]\n",
      "  [0.00910375 0.1071063  0.10150435 0.60824288 0.17404272]\n",
      "  [0.09369981 0.01637355 0.16288119 0.14779165 0.5792538 ]]\n",
      "\n",
      " [[0.63067461 0.19262595 0.10254362 0.03357987 0.04057595]\n",
      "  [0.20693736 0.54620179 0.14206935 0.05239893 0.05239256]\n",
      "  [0.05669504 0.17347318 0.58315118 0.12199503 0.06468557]\n",
      "  [0.08422644 0.06532507 0.18276349 0.50275791 0.16492708]\n",
      "  [0.04575602 0.01847893 0.06069046 0.15488357 0.72019102]]\n",
      "\n",
      " [[0.71618928 0.17062669 0.04819142 0.01718256 0.04781006]\n",
      "  [0.11616915 0.64823601 0.13226942 0.06077333 0.04255209]\n",
      "  [0.05898669 0.18924915 0.48172162 0.15804484 0.1119977 ]\n",
      "  [0.06837171 0.07340177 0.18929117 0.54607201 0.12286334]\n",
      "  [0.02486598 0.04962595 0.04774829 0.16274257 0.71501721]]\n",
      "\n",
      " [[0.65829435 0.17007305 0.07302477 0.05068321 0.04792462]\n",
      "  [0.18075283 0.56060678 0.13063789 0.09099874 0.03700375]\n",
      "  [0.08718212 0.16865626 0.5326578  0.16417805 0.04732577]\n",
      "  [0.08718423 0.10117726 0.15820093 0.55613937 0.09729821]\n",
      "  [0.0520081  0.05837666 0.08208818 0.20046597 0.60706109]]\n",
      "\n",
      " [[0.77409876 0.09428593 0.04686351 0.05104305 0.03370874]\n",
      "  [0.15041473 0.56945424 0.17129964 0.05382854 0.05500285]\n",
      "  [0.02509737 0.25271977 0.55467924 0.11404916 0.05345446]\n",
      "  [0.04127138 0.0845046  0.1625079  0.60432975 0.10738637]\n",
      "  [0.04067422 0.01893331 0.05119012 0.15166996 0.7375324 ]]\n",
      "\n",
      " [[0.67018362 0.15746368 0.06241799 0.08990788 0.02002684]\n",
      "  [0.11406075 0.61885578 0.15264228 0.08485439 0.02958681]\n",
      "  [0.07218455 0.09005661 0.57763622 0.13164247 0.12848014]\n",
      "  [0.09583862 0.18018672 0.16502374 0.42525507 0.13369585]\n",
      "  [0.07293747 0.04887362 0.04229278 0.16991771 0.66597843]]\n",
      "\n",
      " [[0.5780027  0.23314203 0.13602286 0.03642694 0.01640549]\n",
      "  [0.13515408 0.5455612  0.13547274 0.15682404 0.02698794]\n",
      "  [0.06210328 0.08439609 0.57564255 0.20202347 0.07583462]\n",
      "  [0.03388829 0.07645607 0.17932955 0.55194046 0.15838563]\n",
      "  [0.03861162 0.04349204 0.08826603 0.17749863 0.65213169]]\n",
      "\n",
      " [[0.55613623 0.10643525 0.17587571 0.07256757 0.08898524]\n",
      "  [0.1105505  0.64553616 0.11804383 0.06702908 0.05884043]\n",
      "  [0.0718816  0.15194991 0.51866302 0.19823329 0.05927217]\n",
      "  [0.05044385 0.0577643  0.19687909 0.5734773  0.12143547]\n",
      "  [0.03202945 0.09065084 0.1053005  0.16217943 0.60983978]]\n",
      "\n",
      " [[0.75730368 0.10912735 0.06161085 0.04101095 0.03094717]\n",
      "  [0.17521144 0.47527365 0.21291009 0.09569583 0.04090899]\n",
      "  [0.09086323 0.19533828 0.50134305 0.12390063 0.08855481]\n",
      "  [0.04322818 0.05822959 0.16078996 0.59612842 0.14162384]\n",
      "  [0.04437194 0.04519898 0.12648753 0.08557217 0.69836938]]]\n",
      "[[[0.08850466 0.07215495 0.01120986 0.02895019 0.02547051]\n",
      "  [0.07344235 0.116583   0.04166389 0.03464201 0.01772274]\n",
      "  [0.02871832 0.04511561 0.03965777 0.04175183 0.02515752]\n",
      "  [0.00465604 0.06529386 0.01489684 0.06027216 0.04701423]\n",
      "  [0.02210494 0.00823044 0.11309471 0.04486179 0.09385815]]\n",
      "\n",
      " [[0.0502284  0.0524786  0.06180271 0.03051135 0.01693185]\n",
      "  [0.0900194  0.10678758 0.0974342  0.04188097 0.04053837]\n",
      "  [0.02874662 0.06031192 0.07412971 0.09325002 0.05264111]\n",
      "  [0.05893383 0.02099755 0.112245   0.09885636 0.0425873 ]\n",
      "  [0.02576066 0.00871211 0.01893224 0.0350209  0.06836363]]\n",
      "\n",
      " [[0.02613476 0.02585453 0.03069236 0.00672405 0.02404584]\n",
      "  [0.00936436 0.07598438 0.05769665 0.04070707 0.02004777]\n",
      "  [0.02526948 0.05931104 0.02605475 0.02563632 0.05115132]\n",
      "  [0.03128949 0.03525066 0.09592818 0.05385107 0.00057323]\n",
      "  [0.00730001 0.01899636 0.03801584 0.03248414 0.01988364]]\n",
      "\n",
      " [[0.05280382 0.02388628 0.02513957 0.0422181  0.04341771]\n",
      "  [0.07956781 0.16010107 0.05593086 0.05126455 0.01828157]\n",
      "  [0.01698814 0.02619405 0.01230788 0.07259915 0.02400336]\n",
      "  [0.03903112 0.0238868  0.02775    0.00714671 0.0161875 ]\n",
      "  [0.02597409 0.02577792 0.03632021 0.05850688 0.10488961]]\n",
      "\n",
      " [[0.03138811 0.03861975 0.02083972 0.03899026 0.01596802]\n",
      "  [0.08665394 0.08925537 0.08648827 0.02823422 0.02278185]\n",
      "  [0.00823594 0.06763776 0.09999221 0.0433443  0.02752154]\n",
      "  [0.03594201 0.01594199 0.02230455 0.0751115  0.07141846]\n",
      "  [0.02233165 0.00296638 0.0218806  0.04251065 0.03040216]]\n",
      "\n",
      " [[0.06128604 0.07424132 0.02343013 0.05205724 0.02580158]\n",
      "  [0.03422015 0.04579819 0.0556289  0.0167359  0.00749513]\n",
      "  [0.01481269 0.04225499 0.06234095 0.06659312 0.03934961]\n",
      "  [0.02423874 0.04086586 0.06555749 0.08222651 0.06301188]\n",
      "  [0.0376379  0.03512642 0.02933161 0.04513777 0.08684488]]\n",
      "\n",
      " [[0.02676967 0.03987675 0.07071702 0.02861867 0.00867503]\n",
      "  [0.06378623 0.07629167 0.03127231 0.06397424 0.01977013]\n",
      "  [0.03968994 0.06540798 0.01407411 0.05254575 0.03740348]\n",
      "  [0.01301749 0.04929924 0.02695147 0.04984358 0.05131843]\n",
      "  [0.02443044 0.05297373 0.01323209 0.04307193 0.10215175]]\n",
      "\n",
      " [[0.06270371 0.01517499 0.1447707  0.08590856 0.04279743]\n",
      "  [0.03571479 0.02861955 0.0127598  0.03637391 0.02262529]\n",
      "  [0.00836127 0.05108083 0.06836542 0.07416597 0.05211716]\n",
      "  [0.02140327 0.00987026 0.05929963 0.06216489 0.05914674]\n",
      "  [0.01730195 0.02013991 0.06451604 0.051021   0.12789016]]\n",
      "\n",
      " [[0.08868959 0.02569623 0.04787822 0.04484382 0.02482897]\n",
      "  [0.04905782 0.1219854  0.09664285 0.03806309 0.02240304]\n",
      "  [0.01389608 0.06446004 0.05814171 0.08577006 0.03427399]\n",
      "  [0.02894326 0.00756384 0.03911384 0.04163638 0.03413166]\n",
      "  [0.02313138 0.03150756 0.01525017 0.03105029 0.07829475]]]\n"
     ]
    }
   ],
   "source": [
    "print(samples[0].mean(axis=0))\n",
    "print(samples[0].std(axis=0)) #variability for each score (mean value of a particular class)"
   ]
  },
  {
   "cell_type": "markdown",
   "metadata": {},
   "source": [
    "Let's try everything again with ModelBt"
   ]
  },
  {
   "cell_type": "code",
   "execution_count": 110,
   "metadata": {},
   "outputs": [
    {
     "name": "stdout",
     "output_type": "stream",
     "text": [
      "[0.87636637 0.70619674 0.93710232 0.90206081 0.82002759 0.80720385\n",
      " 0.7875665  0.76573254 0.74470629]\n",
      "-211.5749269444824\n"
     ]
    }
   ],
   "source": [
    "# create a new instance of model B, with 5 label classes and 9 annotators.\n",
    "model = ModelBt.create_initial_state(5, 9)\n",
    "print(model.theta)\n",
    "print(model.log_likelihood(anno.annotations))"
   ]
  },
  {
   "cell_type": "code",
   "execution_count": 111,
   "metadata": {},
   "outputs": [
    {
     "name": "stdout",
     "output_type": "stream",
     "text": [
      "[0.72131847 0.21414029 0.4623914  0.59520833 0.62159435 0.3791558\n",
      " 0.67290079 0.37183844 0.48354236]\n",
      "-162.26345065771923\n"
     ]
    }
   ],
   "source": [
    "model.map(anno.annotations)\n",
    "print(model.theta)\n",
    "print(model.log_likelihood(anno.annotations))"
   ]
  },
  {
   "cell_type": "code",
   "execution_count": 150,
   "metadata": {},
   "outputs": [
    {
     "name": "stdout",
     "output_type": "stream",
     "text": [
      "[[3.39093961e-04 8.23766133e-01 4.05941457e-03 1.71835358e-01\n",
      "  7.97935395e-10]\n",
      " [1.09928940e-04 5.35754720e-03 3.68794370e-03 9.90844580e-01\n",
      "  2.58678131e-10]\n",
      " [6.73792297e-04 4.25443624e-02 3.40467028e-04 9.56441373e-01\n",
      "  4.80815768e-09]\n",
      " [5.67446217e-05 5.21228881e-05 9.99876628e-01 1.45045768e-05\n",
      "  1.72839863e-11]\n",
      " [3.35356249e-01 1.02723218e-03 6.62776668e-01 8.39850481e-04\n",
      "  7.94746821e-10]\n",
      " [5.52832385e-04 1.88971897e-04 9.99189158e-01 6.90111018e-05\n",
      "  2.69263884e-08]\n",
      " [2.85962348e-04 1.19606177e-05 1.28628467e-03 9.98415791e-01\n",
      "  1.63531481e-09]\n",
      " [9.50584234e-06 9.96656879e-01 3.81441198e-06 3.32980086e-03\n",
      "  2.23685731e-11]\n",
      " [7.59789109e-04 5.63054460e-05 1.46859338e-05 9.99169219e-01\n",
      "  3.38056093e-11]\n",
      " [7.72705794e-04 7.12699812e-03 3.90447986e-04 9.91709806e-01\n",
      "  4.17495892e-08]\n",
      " [2.32139346e-02 9.75040118e-01 1.64888960e-03 9.70572897e-05\n",
      "  2.94639177e-10]\n",
      " [7.92919662e-04 1.35504707e-02 9.78458705e-01 7.19776075e-03\n",
      "  1.43644778e-07]]\n"
     ]
    }
   ],
   "source": [
    "posterior2 = model.infer_labels(anno.annotations)\n",
    "print(posterior2)"
   ]
  },
  {
   "cell_type": "markdown",
   "metadata": {},
   "source": [
    "Let's visualize the posterior of the first 10 samples according to ModelBt."
   ]
  },
  {
   "cell_type": "code",
   "execution_count": 160,
   "metadata": {},
   "outputs": [
    {
     "data": {
      "image/png": "[encoded data removed]",
      "text/plain": [
       "<Figure size 432x288 with 2 Axes>"
      ]
     },
     "metadata": {
      "needs_background": "light"
     },
     "output_type": "display_data"
    }
   ],
   "source": [
    "ax = seaborn.heatmap(posterior[:10,])\n",
    "plt.show()\n"
   ]
  },
  {
   "cell_type": "code",
   "execution_count": 159,
   "metadata": {},
   "outputs": [
    {
     "data": {
      "image/png": "[encoded data removed]",
      "text/plain": [
       "<Figure size 1080x720 with 4 Axes>"
      ]
     },
     "metadata": {
      "needs_background": "light"
     },
     "output_type": "display_data"
    }
   ],
   "source": [
    "fig, (ax1, ax2) = plt.subplots(ncols=2, figsize = (15, 10), sharey=True)\n",
    "num_questions = 12\n",
    "\n",
    "seaborn.heatmap(votes_array[:num_questions], annot = True, ax=ax2)\n",
    "seaborn.heatmap(posterior2[:num_questions], annot=True, ax =ax1)\n",
    "ax1.set_title(\"Model\")\n",
    "ax2.set_title(\"Votes\")\n",
    "plt.show()\n",
    "\n",
    "#For Model b theta\n",
    "\n",
    "#Sum of each row of the votes totals the number of participants who responded to my survey. \n",
    "#The heatmap on the left respresents posterior probabilities while the heatmap on the right\n",
    "#corresponds to freqencies.\n",
    "\n",
    "#This is the heat map for the second model. Humans can give correct and wrong answers, so the model \n",
    "#uses all this information to give us the best estimate of each question. Given the knowledge\n",
    "#that not all our coders are accurate, here's the \"correct\" answer. Like in the previous heatmap set \n",
    "#from modelB. The fact that we don't have a concrete value established for question 4 shows an unstable answer;\n",
    "#it hasn't landed on a concrete estimate here. However, for the questions with white squares, it has,\n",
    "#and determines this from the vote frequency (among other factors). Still uncertain about the presence of 5's \n",
    "#and 6's here.\n",
    "#For example: for question 7, the \"True\" answer is 1. FOr questoin 8, the \"True\" answer is 3.\n",
    "#But, like the heatmaps produced from Modelb, some of the majority votes don't actually correspond with \n",
    "#the final answer you'd expect (i.e., a cell displays a majority vote and you might expect that to be\n",
    "#more ilkely to be the true answer, but a cell with fewer votes actually shows a higher probability).\n",
    "#I explain why in the model b section."
   ]
  },
  {
   "cell_type": "markdown",
   "metadata": {},
   "source": [
    "The property of these scores is that they enable us to identify the most likely code assuming coders of unequal quality, which also allows us to break ties when we know coder identity. For some analyses, we may simply use the posterior themselves rather than the most probably code outcome."
   ]
  },
  {
   "cell_type": "markdown",
   "metadata": {},
   "source": [
    "# Generating Annotations"
   ]
  },
  {
   "cell_type": "markdown",
   "metadata": {},
   "source": [
    "Pyanno also allows one to generate artificial data from a model."
   ]
  },
  {
   "cell_type": "code",
   "execution_count": 161,
   "metadata": {},
   "outputs": [
    {
     "data": {
      "text/plain": [
       "array([[1, 3, 2, 1, 1, 4, 1, 1, 0],\n",
       "       [2, 1, 3, 2, 3, 4, 2, 1, 2],\n",
       "       [3, 3, 1, 1, 4, 0, 1, 1, 3],\n",
       "       [2, 0, 3, 3, 3, 3, 3, 1, 1],\n",
       "       [2, 1, 4, 2, 1, 1, 2, 1, 2],\n",
       "       [0, 2, 0, 0, 2, 1, 0, 1, 4],\n",
       "       [4, 4, 2, 3, 4, 2, 4, 2, 4],\n",
       "       [4, 0, 2, 4, 4, 4, 0, 0, 1],\n",
       "       [2, 0, 2, 2, 3, 2, 3, 4, 3],\n",
       "       [1, 2, 2, 3, 2, 2, 2, 3, 3],\n",
       "       [0, 4, 1, 4, 0, 0, 0, 1, 4],\n",
       "       [0, 4, 0, 0, 0, 3, 0, 4, 0],\n",
       "       [2, 1, 2, 2, 2, 0, 1, 1, 2],\n",
       "       [2, 2, 2, 3, 1, 2, 2, 2, 2],\n",
       "       [2, 3, 4, 4, 4, 4, 4, 2, 1],\n",
       "       [2, 0, 4, 2, 2, 0, 4, 3, 2],\n",
       "       [0, 2, 0, 0, 3, 0, 0, 3, 3],\n",
       "       [2, 4, 2, 2, 2, 2, 4, 1, 4],\n",
       "       [4, 2, 4, 3, 1, 1, 4, 4, 3],\n",
       "       [3, 3, 3, 3, 3, 3, 0, 4, 4]])"
      ]
     },
     "execution_count": 161,
     "metadata": {},
     "output_type": "execute_result"
    }
   ],
   "source": [
    "model = ModelBt.create_initial_state(5, 9, theta= model.theta)\n",
    "#random generate annotations with 5 label classes and 9 annotators\n",
    "model.generate_annotations(20)\n",
    "#This is what the model expects if you had 9 annotators and 5 classes, this is what they would predict for \n",
    "#each question."
   ]
  },
  {
   "cell_type": "markdown",
   "metadata": {},
   "source": [
    "## Visualizing coder accuracy"
   ]
  },
  {
   "cell_type": "markdown",
   "metadata": {},
   "source": [
    "Pyanno provides a [graphical user interface](http://docs.enthought.com/uchicago-pyanno/user_guide.html) for making plots. However, it is not compatible with ipython notebooks. Nevertheless, nothing prevents us from making plots using matplotlib. Let's make a plot of the accuracy of each annotator inferred from ModelA."
   ]
  },
  {
   "cell_type": "code",
   "execution_count": 156,
   "metadata": {},
   "outputs": [],
   "source": [
    "model = ModelBt.create_initial_state(5, 9)\n",
    "model.map(anno.annotations) #using MAP estimates, not MLE\n",
    "samples = model.sample_posterior_over_accuracy(anno.annotations, 5, burn_in_samples=100, thin_samples=3)\n",
    "y =  samples.mean(axis=0)#.mean(axis = 1).mean(axis = 1)\n",
    "y_ci = samples.std(axis=0)#.mean(axis = 1).mean(axis = 1)"
   ]
  },
  {
   "cell_type": "code",
   "execution_count": 165,
   "metadata": {},
   "outputs": [
    {
     "data": {
      "image/png": "[encoded data removed]",
      "text/plain": [
       "<Figure size 432x288 with 1 Axes>"
      ]
     },
     "metadata": {
      "needs_background": "light"
     },
     "output_type": "display_data"
    }
   ],
   "source": [
    "plt.figure()\n",
    "plt.errorbar(range(9),y, yerr = y_ci)\n",
    "plt.show()\n",
    "#Mean values are center, and the variance is the error bars (length). So, this is an estimate of participant\n",
    "#accuracy. \n",
    "#According to this, participant 5 has the most variation and also the lowest accuracy (worst coder)\n",
    "#Our high quality analysts are those with the least variance (shortest variance bars) and highest value \n",
    "#on the y axis. So, our higher quality analysts are participants 0, 4, and 8 while our lowest quality \n",
    "#analysts are participants 1 and 5.\n",
    "#These plots tell us about the distribution of skill among your coders (described above)\n",
    "#the distribution in skill could be explained by cultural differences, mood, among other factors "
   ]
  },
  {
   "cell_type": "code",
   "execution_count": null,
   "metadata": {},
   "outputs": [],
   "source": []
  }
 ],
 "metadata": {
  "anaconda-cloud": {},
  "kernelspec": {
   "display_name": "Python 3",
   "language": "python",
   "name": "python3"
  },
  "language_info": {
   "codemirror_mode": {
    "name": "ipython",
    "version": 3
   },
   "file_extension": ".py",
   "mimetype": "text/x-python",
   "name": "python",
   "nbconvert_exporter": "python",
   "pygments_lexer": "ipython3",
   "version": "3.7.4"
  }
 },
 "nbformat": 4,
 "nbformat_minor": 1
}
