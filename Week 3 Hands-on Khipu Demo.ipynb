{
 "cells": [
  {
   "cell_type": "markdown",
   "metadata": {},
   "source": [
    "# Hands-on: Deciphering Inka Khipu Signs\n"
   ]
  },
  {
   "cell_type": "code",
   "execution_count": 2,
   "metadata": {},
   "outputs": [],
   "source": [
    "import pandas as pd\n",
    "import matplotlib.pyplot as plt\n",
    "import numpy as np\n",
    "\n",
    "def plot_multi_proportion_confint_digits(actual_first_digit_frequencies, \n",
    "                                         actual_first_digit_counts, \n",
    "                                         expected_first_digit_frequencies,\n",
    "                                         label_actual,\n",
    "                                         label_expected,\n",
    "                                         title\n",
    "                                        ):\n",
    "    # Import function-specific package:\n",
    "    from statsmodels.stats.proportion import multinomial_proportions_confint\n",
    "    \n",
    "    # Plot 95% CIs as lines with caps on the top and bottom for easier interpretation\n",
    "    plt.figure(figsize=(9,5))\n",
    "\n",
    "    (_, caps, _) = plt.errorbar(x=np.arange(1, 10, 1), \n",
    "                     y=actual_first_digit_frequencies, \n",
    "                     yerr=[(top-bot)/2 for top,bot in multinomial_proportions_confint(actual_first_digit_counts)],\n",
    "                     capsize=5, fmt='none', label=label_actual+' 95% CI')\n",
    "\n",
    "    for cap in caps:\n",
    "        cap.set_markeredgewidth(1)\n",
    "\n",
    "    # Plot expected values as scatter plot points, in order to visualize where CIs include expected values\n",
    "    plt.scatter(np.arange(1,10,1), expected_first_digit_frequencies, label=label_expected, color='red')\n",
    "    \n",
    "    # Format \n",
    "    plt.xticks([1,2,3,4,5,6,7,8,9])\n",
    "    plt.xlabel('First Digits')\n",
    "    plt.ylabel('Frequency')\n",
    "    plt.title(title)\n",
    "    plt.legend();\n",
    "    \n",
    "    return\n",
    "\n",
    "expected_frequencies = pd.Series([.301, .176, .125, .097, .079, .067, .058, .051, .046], \n",
    "                                 index = [1, 2, 3, 4, 5, 6, 7, 8, 9]\n",
    "                                )"
   ]
  },
  {
   "cell_type": "code",
   "execution_count": 4,
   "metadata": {},
   "outputs": [
    {
     "data": {
      "text/html": [
       "<div>\n",
       "<style scoped>\n",
       "    .dataframe tbody tr th:only-of-type {\n",
       "        vertical-align: middle;\n",
       "    }\n",
       "\n",
       "    .dataframe tbody tr th {\n",
       "        vertical-align: top;\n",
       "    }\n",
       "\n",
       "    .dataframe thead th {\n",
       "        text-align: right;\n",
       "    }\n",
       "</style>\n",
       "<table border=\"1\" class=\"dataframe\">\n",
       "  <thead>\n",
       "    <tr style=\"text-align: right;\">\n",
       "      <th></th>\n",
       "      <th>GEO.id</th>\n",
       "      <th>GEO.id2</th>\n",
       "      <th>Geography</th>\n",
       "      <th>Population</th>\n",
       "    </tr>\n",
       "  </thead>\n",
       "  <tbody>\n",
       "    <tr>\n",
       "      <td>0</td>\n",
       "      <td>0500000US01001</td>\n",
       "      <td>1001</td>\n",
       "      <td>Autauga County, Alabama</td>\n",
       "      <td>54571</td>\n",
       "    </tr>\n",
       "    <tr>\n",
       "      <td>1</td>\n",
       "      <td>0500000US01003</td>\n",
       "      <td>1003</td>\n",
       "      <td>Baldwin County, Alabama</td>\n",
       "      <td>182265</td>\n",
       "    </tr>\n",
       "    <tr>\n",
       "      <td>2</td>\n",
       "      <td>0500000US01005</td>\n",
       "      <td>1005</td>\n",
       "      <td>Barbour County, Alabama</td>\n",
       "      <td>27457</td>\n",
       "    </tr>\n",
       "    <tr>\n",
       "      <td>3</td>\n",
       "      <td>0500000US01007</td>\n",
       "      <td>1007</td>\n",
       "      <td>Bibb County, Alabama</td>\n",
       "      <td>22915</td>\n",
       "    </tr>\n",
       "    <tr>\n",
       "      <td>4</td>\n",
       "      <td>0500000US01009</td>\n",
       "      <td>1009</td>\n",
       "      <td>Blount County, Alabama</td>\n",
       "      <td>57322</td>\n",
       "    </tr>\n",
       "  </tbody>\n",
       "</table>\n",
       "</div>"
      ],
      "text/plain": [
       "           GEO.id  GEO.id2                Geography  Population\n",
       "0  0500000US01001     1001  Autauga County, Alabama       54571\n",
       "1  0500000US01003     1003  Baldwin County, Alabama      182265\n",
       "2  0500000US01005     1005  Barbour County, Alabama       27457\n",
       "3  0500000US01007     1007     Bibb County, Alabama       22915\n",
       "4  0500000US01009     1009   Blount County, Alabama       57322"
      ]
     },
     "execution_count": 4,
     "metadata": {},
     "output_type": "execute_result"
    }
   ],
   "source": [
    "population_df = pd.read_csv('Population_by_County_2010_Census.csv')\n",
    "population_df.head()"
   ]
  },
  {
   "cell_type": "code",
   "execution_count": 6,
   "metadata": {},
   "outputs": [
    {
     "data": {
      "text/plain": [
       "0        54571\n",
       "1       182265\n",
       "2        27457\n",
       "3        22915\n",
       "4        57322\n",
       "         ...  \n",
       "3137     43806\n",
       "3138     21294\n",
       "3139     21118\n",
       "3140      8533\n",
       "3141      7208\n",
       "Name: Population, Length: 3142, dtype: int64"
      ]
     },
     "execution_count": 6,
     "metadata": {},
     "output_type": "execute_result"
    }
   ],
   "source": [
    "population_size = population_df['Population']\n",
    "population_size"
   ]
  },
  {
   "cell_type": "code",
   "execution_count": 7,
   "metadata": {},
   "outputs": [],
   "source": [
    "def first_digit(number):\n",
    "    return int(str(number)[0])"
   ]
  },
  {
   "cell_type": "code",
   "execution_count": 9,
   "metadata": {},
   "outputs": [
    {
     "data": {
      "text/plain": [
       "0       5\n",
       "1       1\n",
       "2       2\n",
       "3       2\n",
       "4       5\n",
       "       ..\n",
       "3137    4\n",
       "3138    2\n",
       "3139    2\n",
       "3140    8\n",
       "3141    7\n",
       "Name: Population, Length: 3142, dtype: int64"
      ]
     },
     "execution_count": 9,
     "metadata": {},
     "output_type": "execute_result"
    }
   ],
   "source": [
    "first_digits_population_size = population_size.apply(first_digit)\n",
    "first_digits_population_size"
   ]
  },
  {
   "cell_type": "markdown",
   "metadata": {},
   "source": [
    "Need to calculate how many times digit occurs in the series we have here, as a whole\n",
    "Take count of each one of these values, which we can do in pandas, and then divide that by the number of entries\n",
    "that we have (finding the ratio)."
   ]
  },
  {
   "cell_type": "code",
   "execution_count": 21,
   "metadata": {},
   "outputs": [
    {
     "data": {
      "text/plain": [
       "1    0.303310\n",
       "2    0.189052\n",
       "3    0.119032\n",
       "4    0.098027\n",
       "5    0.067791\n",
       "6    0.066836\n",
       "7    0.057925\n",
       "8    0.048377\n",
       "9    0.049650\n",
       "Name: Population, dtype: float64"
      ]
     },
     "execution_count": 21,
     "metadata": {},
     "output_type": "execute_result"
    }
   ],
   "source": [
    "first_digit_frequencies = first_digits_population_size.value_counts()/len(first_digits_population_size)\n",
    "first_digit_frequencies.sort_index(inplace=True)\n",
    "first_digit_frequencies"
   ]
  },
  {
   "cell_type": "markdown",
   "metadata": {},
   "source": [
    "*does obey the downward slope we would expect*"
   ]
  },
  {
   "cell_type": "code",
   "execution_count": 22,
   "metadata": {},
   "outputs": [
    {
     "data": {
      "text/plain": [
       "Text(0, 0.5, 'Frequency')"
      ]
     },
     "execution_count": 22,
     "metadata": {},
     "output_type": "execute_result"
    },
    {
     "data": {
      "image/png": "[encoded data removed]",
      "text/plain": [
       "<Figure size 432x288 with 1 Axes>"
      ]
     },
     "metadata": {
      "needs_background": "light"
     },
     "output_type": "display_data"
    }
   ],
   "source": [
    "first_digit_frequencies.plot(kind='bar', title='First digits of Population Size by County')\n",
    "plt.xlabel('First Digits')\n",
    "plt.ylabel('Frequency')"
   ]
  },
  {
   "cell_type": "code",
   "execution_count": 23,
   "metadata": {},
   "outputs": [
    {
     "data": {
      "text/html": [
       "<div>\n",
       "<style scoped>\n",
       "    .dataframe tbody tr th:only-of-type {\n",
       "        vertical-align: middle;\n",
       "    }\n",
       "\n",
       "    .dataframe tbody tr th {\n",
       "        vertical-align: top;\n",
       "    }\n",
       "\n",
       "    .dataframe thead th {\n",
       "        text-align: right;\n",
       "    }\n",
       "</style>\n",
       "<table border=\"1\" class=\"dataframe\">\n",
       "  <thead>\n",
       "    <tr style=\"text-align: right;\">\n",
       "      <th></th>\n",
       "      <th>1</th>\n",
       "      <th>2</th>\n",
       "      <th>3</th>\n",
       "      <th>4</th>\n",
       "      <th>5</th>\n",
       "      <th>6</th>\n",
       "      <th>7</th>\n",
       "      <th>8</th>\n",
       "      <th>9</th>\n",
       "    </tr>\n",
       "  </thead>\n",
       "  <tbody>\n",
       "    <tr>\n",
       "      <td>Population</td>\n",
       "      <td>0.30331</td>\n",
       "      <td>0.189052</td>\n",
       "      <td>0.119032</td>\n",
       "      <td>0.098027</td>\n",
       "      <td>0.067791</td>\n",
       "      <td>0.066836</td>\n",
       "      <td>0.057925</td>\n",
       "      <td>0.048377</td>\n",
       "      <td>0.04965</td>\n",
       "    </tr>\n",
       "    <tr>\n",
       "      <td>Unnamed 0</td>\n",
       "      <td>0.30100</td>\n",
       "      <td>0.176000</td>\n",
       "      <td>0.125000</td>\n",
       "      <td>0.097000</td>\n",
       "      <td>0.079000</td>\n",
       "      <td>0.067000</td>\n",
       "      <td>0.058000</td>\n",
       "      <td>0.051000</td>\n",
       "      <td>0.04600</td>\n",
       "    </tr>\n",
       "  </tbody>\n",
       "</table>\n",
       "</div>"
      ],
      "text/plain": [
       "                  1         2         3         4         5         6  \\\n",
       "Population  0.30331  0.189052  0.119032  0.098027  0.067791  0.066836   \n",
       "Unnamed 0   0.30100  0.176000  0.125000  0.097000  0.079000  0.067000   \n",
       "\n",
       "                   7         8        9  \n",
       "Population  0.057925  0.048377  0.04965  \n",
       "Unnamed 0   0.058000  0.051000  0.04600  "
      ]
     },
     "execution_count": 23,
     "metadata": {},
     "output_type": "execute_result"
    }
   ],
   "source": [
    "freqs = pd.DataFrame([first_digit_frequencies, expected_frequencies])  #expected frequencies by benford's law\n",
    "#above\n",
    "freqs"
   ]
  },
  {
   "cell_type": "markdown",
   "metadata": {},
   "source": [
    "*we don't want it like this, so just transpose the dataframe*"
   ]
  },
  {
   "cell_type": "code",
   "execution_count": 30,
   "metadata": {},
   "outputs": [
    {
     "data": {
      "text/html": [
       "<div>\n",
       "<style scoped>\n",
       "    .dataframe tbody tr th:only-of-type {\n",
       "        vertical-align: middle;\n",
       "    }\n",
       "\n",
       "    .dataframe tbody tr th {\n",
       "        vertical-align: top;\n",
       "    }\n",
       "\n",
       "    .dataframe thead th {\n",
       "        text-align: right;\n",
       "    }\n",
       "</style>\n",
       "<table border=\"1\" class=\"dataframe\">\n",
       "  <thead>\n",
       "    <tr style=\"text-align: right;\">\n",
       "      <th></th>\n",
       "      <th>Actual</th>\n",
       "      <th>Expected</th>\n",
       "    </tr>\n",
       "  </thead>\n",
       "  <tbody>\n",
       "    <tr>\n",
       "      <td>1</td>\n",
       "      <td>0.303310</td>\n",
       "      <td>0.301</td>\n",
       "    </tr>\n",
       "    <tr>\n",
       "      <td>2</td>\n",
       "      <td>0.189052</td>\n",
       "      <td>0.176</td>\n",
       "    </tr>\n",
       "    <tr>\n",
       "      <td>3</td>\n",
       "      <td>0.119032</td>\n",
       "      <td>0.125</td>\n",
       "    </tr>\n",
       "    <tr>\n",
       "      <td>4</td>\n",
       "      <td>0.098027</td>\n",
       "      <td>0.097</td>\n",
       "    </tr>\n",
       "    <tr>\n",
       "      <td>5</td>\n",
       "      <td>0.067791</td>\n",
       "      <td>0.079</td>\n",
       "    </tr>\n",
       "    <tr>\n",
       "      <td>6</td>\n",
       "      <td>0.066836</td>\n",
       "      <td>0.067</td>\n",
       "    </tr>\n",
       "    <tr>\n",
       "      <td>7</td>\n",
       "      <td>0.057925</td>\n",
       "      <td>0.058</td>\n",
       "    </tr>\n",
       "    <tr>\n",
       "      <td>8</td>\n",
       "      <td>0.048377</td>\n",
       "      <td>0.051</td>\n",
       "    </tr>\n",
       "    <tr>\n",
       "      <td>9</td>\n",
       "      <td>0.049650</td>\n",
       "      <td>0.046</td>\n",
       "    </tr>\n",
       "  </tbody>\n",
       "</table>\n",
       "</div>"
      ],
      "text/plain": [
       "     Actual  Expected\n",
       "1  0.303310     0.301\n",
       "2  0.189052     0.176\n",
       "3  0.119032     0.125\n",
       "4  0.098027     0.097\n",
       "5  0.067791     0.079\n",
       "6  0.066836     0.067\n",
       "7  0.057925     0.058\n",
       "8  0.048377     0.051\n",
       "9  0.049650     0.046"
      ]
     },
     "execution_count": 30,
     "metadata": {},
     "output_type": "execute_result"
    }
   ],
   "source": [
    "freqs = pd.DataFrame([first_digit_frequencies, expected_frequencies]).T\n",
    "freqs.columns = ['Actual', 'Expected']\n",
    "freqs"
   ]
  },
  {
   "cell_type": "code",
   "execution_count": 25,
   "metadata": {},
   "outputs": [
    {
     "data": {
      "text/plain": [
       "<matplotlib.axes._subplots.AxesSubplot at 0x11ee3c690>"
      ]
     },
     "execution_count": 25,
     "metadata": {},
     "output_type": "execute_result"
    },
    {
     "data": {
      "image/png": "[encoded data removed]",
      "text/plain": [
       "<Figure size 432x288 with 1 Axes>"
      ]
     },
     "metadata": {
      "needs_background": "light"
     },
     "output_type": "display_data"
    }
   ],
   "source": [
    "freqs.plot(kind='bar', title='First digits vs Benford Law expectations')"
   ]
  },
  {
   "cell_type": "code",
   "execution_count": 33,
   "metadata": {},
   "outputs": [
    {
     "data": {
      "text/plain": [
       "Power_divergenceResult(statistic=9.522569120793193, pvalue=0.3001453330051994)"
      ]
     },
     "execution_count": 33,
     "metadata": {},
     "output_type": "execute_result"
    }
   ],
   "source": [
    "from scipy.stats import chisquare\n",
    "\n",
    "actual_counts = first_digits_population_size.value_counts()\n",
    "expected_counts = expected_frequencies*len(first_digits_population_size)\n",
    "chisquare(actual_counts, f_exp=expected_counts)"
   ]
  },
  {
   "cell_type": "markdown",
   "metadata": {},
   "source": [
    "This kind of a general output/test makes it hard to test where there might be statistical differences between these in much detail (were there more fives than expected, for example)?"
   ]
  },
  {
   "cell_type": "code",
   "execution_count": 35,
   "metadata": {},
   "outputs": [
    {
     "data": {
      "image/png": "[encoded data removed]",
      "text/plain": [
       "<Figure size 648x360 with 1 Axes>"
      ]
     },
     "metadata": {
      "needs_background": "light"
     },
     "output_type": "display_data"
    }
   ],
   "source": [
    "plot_multi_proportion_confint_digits(actual_first_digit_frequencies = first_digit_frequencies,\n",
    "                                    actual_first_digit_counts = actual_counts,\n",
    "                                    expected_first_digit_frequencies = expected_frequencies,\n",
    "                                    label_actual = 'Population Size First Digits', \n",
    "                                    label_expected = \"Benford's Law Predictions\",\n",
    "                                    title = 'Pop size first digit CIs vs. Benford Law Predictions')"
   ]
  },
  {
   "cell_type": "code",
   "execution_count": 64,
   "metadata": {},
   "outputs": [
    {
     "data": {
      "text/plain": [
       "<matplotlib.axes._subplots.AxesSubplot at 0x1a217c5a90>"
      ]
     },
     "execution_count": 64,
     "metadata": {},
     "output_type": "execute_result"
    },
    {
     "data": {
      "image/png": "[encoded data removed]",
      "text/plain": [
       "<Figure size 432x288 with 1 Axes>"
      ]
     },
     "metadata": {
      "needs_background": "light"
     },
     "output_type": "display_data"
    }
   ],
   "source": [
    "np.random.seed(0)\n",
    "\n",
    "uniform_sum = np.random.randint(1,9,10000) + np.random.randint(1,9, 10000)\n",
    "\n",
    "first_digit_uniform = pd.Series(uniform_sum).apply(first_digit)\n",
    "first_digit_uniform\n",
    "\n",
    "uniform_first_digit_frequencies = first_digit_uniform.value_counts()/len(first_digit_uniform)\n",
    "uniform_first_digit_frequencies.sort_index(inplace=True)\n",
    "uniform_first_digit_frequencies.plot(kind='bar')\n",
    "\n",
    "#something clearly went wrong here lmao"
   ]
  },
  {
   "cell_type": "code",
   "execution_count": 47,
   "metadata": {},
   "outputs": [
    {
     "data": {
      "text/html": [
       "<div>\n",
       "<style scoped>\n",
       "    .dataframe tbody tr th:only-of-type {\n",
       "        vertical-align: middle;\n",
       "    }\n",
       "\n",
       "    .dataframe tbody tr th {\n",
       "        vertical-align: top;\n",
       "    }\n",
       "\n",
       "    .dataframe thead th {\n",
       "        text-align: right;\n",
       "    }\n",
       "</style>\n",
       "<table border=\"1\" class=\"dataframe\">\n",
       "  <thead>\n",
       "    <tr style=\"text-align: right;\">\n",
       "      <th></th>\n",
       "      <th>Unnamed: 0</th>\n",
       "      <th>Khipu</th>\n",
       "      <th>Cord</th>\n",
       "      <th>Fiber</th>\n",
       "      <th>Value</th>\n",
       "      <th>Colors</th>\n",
       "      <th>Spin_Ply</th>\n",
       "      <th>Attachment</th>\n",
       "      <th>Termin</th>\n",
       "      <th>Length</th>\n",
       "      <th>Anomalous</th>\n",
       "    </tr>\n",
       "  </thead>\n",
       "  <tbody>\n",
       "    <tr>\n",
       "      <td>56822</td>\n",
       "      <td>3146</td>\n",
       "      <td>UR294</td>\n",
       "      <td>1</td>\n",
       "      <td>CN</td>\n",
       "      <td>100</td>\n",
       "      <td>LB</td>\n",
       "      <td>Z</td>\n",
       "      <td>V</td>\n",
       "      <td>K</td>\n",
       "      <td>34.5</td>\n",
       "      <td>False</td>\n",
       "    </tr>\n",
       "    <tr>\n",
       "      <td>56823</td>\n",
       "      <td>3147</td>\n",
       "      <td>UR294</td>\n",
       "      <td>2</td>\n",
       "      <td>CN</td>\n",
       "      <td>22</td>\n",
       "      <td>MB</td>\n",
       "      <td>Z</td>\n",
       "      <td>V</td>\n",
       "      <td>B</td>\n",
       "      <td>22.5</td>\n",
       "      <td>False</td>\n",
       "    </tr>\n",
       "    <tr>\n",
       "      <td>56824</td>\n",
       "      <td>3148</td>\n",
       "      <td>UR294</td>\n",
       "      <td>3</td>\n",
       "      <td>CN</td>\n",
       "      <td>65</td>\n",
       "      <td>NB</td>\n",
       "      <td>Z</td>\n",
       "      <td>V</td>\n",
       "      <td>K</td>\n",
       "      <td>17.5</td>\n",
       "      <td>False</td>\n",
       "    </tr>\n",
       "    <tr>\n",
       "      <td>56825</td>\n",
       "      <td>3149</td>\n",
       "      <td>UR294</td>\n",
       "      <td>4</td>\n",
       "      <td>CN</td>\n",
       "      <td>52</td>\n",
       "      <td>W</td>\n",
       "      <td>Z</td>\n",
       "      <td>V</td>\n",
       "      <td>K</td>\n",
       "      <td>23.0</td>\n",
       "      <td>False</td>\n",
       "    </tr>\n",
       "    <tr>\n",
       "      <td>56826</td>\n",
       "      <td>3150</td>\n",
       "      <td>UR294</td>\n",
       "      <td>5</td>\n",
       "      <td>CN</td>\n",
       "      <td>0</td>\n",
       "      <td>MB\\t (0-23) \\r\\nMB:W:BG\\t (23-27) \\r\\nMB\\t (27...</td>\n",
       "      <td>Z</td>\n",
       "      <td>V</td>\n",
       "      <td>K</td>\n",
       "      <td>40.5</td>\n",
       "      <td>False</td>\n",
       "    </tr>\n",
       "  </tbody>\n",
       "</table>\n",
       "</div>"
      ],
      "text/plain": [
       "       Unnamed: 0  Khipu Cord Fiber  Value  \\\n",
       "56822        3146  UR294    1    CN    100   \n",
       "56823        3147  UR294    2    CN     22   \n",
       "56824        3148  UR294    3    CN     65   \n",
       "56825        3149  UR294    4    CN     52   \n",
       "56826        3150  UR294    5    CN      0   \n",
       "\n",
       "                                                  Colors Spin_Ply Attachment  \\\n",
       "56822                                                 LB        Z          V   \n",
       "56823                                                 MB        Z          V   \n",
       "56824                                                 NB        Z          V   \n",
       "56825                                                  W        Z          V   \n",
       "56826  MB\\t (0-23) \\r\\nMB:W:BG\\t (23-27) \\r\\nMB\\t (27...        Z          V   \n",
       "\n",
       "      Termin  Length Anomalous  \n",
       "56822      K    34.5     False  \n",
       "56823      B    22.5     False  \n",
       "56824      K    17.5     False  \n",
       "56825      K    23.0     False  \n",
       "56826      K    40.5     False  "
      ]
     },
     "execution_count": 47,
     "metadata": {},
     "output_type": "execute_result"
    }
   ],
   "source": [
    "khipu_cords = pd.read_pickle('khipu_cords.pkl')\n",
    "khipu_cords.tail()"
   ]
  },
  {
   "cell_type": "code",
   "execution_count": 55,
   "metadata": {},
   "outputs": [],
   "source": [
    "#khipu_cords[khipu_cords['Anomalous'] != False] ['Value'].apply(first_digit)\n",
    "first_digit_anomalous = khipu_cords[khipu_cords['Anomalous'] != False] ['Value'].apply(first_digit)\n",
    "first_digit_normal = khipu_cords[khipu_cords['Anomalous'] == False] ['Value'].apply(first_digit)\n",
    "\n",
    "first_digit_anomalous = first_digit_anomalous[first_digit_anomalous != 0]\n",
    "first_digit_normal = first_digit_normal[first_digit_normal != 0]"
   ]
  },
  {
   "cell_type": "code",
   "execution_count": 60,
   "metadata": {},
   "outputs": [],
   "source": [
    "anomalous_first_digit_frequencies = first_digit_anomalous.value_counts()/len(first_digit_anomalous)\n",
    "anomalous_first_digit_frequencies.sort_index(inplace=True)\n",
    "normal_first_digit_frequencies = first_digit_normal.value_counts()/len(first_digit_normal)\n",
    "normal_first_digit_frequencies.sort_index(inplace=True)"
   ]
  },
  {
   "cell_type": "code",
   "execution_count": 61,
   "metadata": {},
   "outputs": [
    {
     "data": {
      "text/html": [
       "<div>\n",
       "<style scoped>\n",
       "    .dataframe tbody tr th:only-of-type {\n",
       "        vertical-align: middle;\n",
       "    }\n",
       "\n",
       "    .dataframe tbody tr th {\n",
       "        vertical-align: top;\n",
       "    }\n",
       "\n",
       "    .dataframe thead th {\n",
       "        text-align: right;\n",
       "    }\n",
       "</style>\n",
       "<table border=\"1\" class=\"dataframe\">\n",
       "  <thead>\n",
       "    <tr style=\"text-align: right;\">\n",
       "      <th></th>\n",
       "      <th>Anomalous</th>\n",
       "      <th>Normal</th>\n",
       "      <th>Expected (Benford)</th>\n",
       "      <th>Expected ((Uniform Sum))</th>\n",
       "    </tr>\n",
       "  </thead>\n",
       "  <tbody>\n",
       "    <tr>\n",
       "      <td>1</td>\n",
       "      <td>0.329212</td>\n",
       "      <td>0.377575</td>\n",
       "      <td>0.301</td>\n",
       "      <td>NaN</td>\n",
       "    </tr>\n",
       "    <tr>\n",
       "      <td>2</td>\n",
       "      <td>0.189332</td>\n",
       "      <td>0.198318</td>\n",
       "      <td>0.176</td>\n",
       "      <td>1.0</td>\n",
       "    </tr>\n",
       "    <tr>\n",
       "      <td>3</td>\n",
       "      <td>0.113387</td>\n",
       "      <td>0.120762</td>\n",
       "      <td>0.125</td>\n",
       "      <td>NaN</td>\n",
       "    </tr>\n",
       "    <tr>\n",
       "      <td>4</td>\n",
       "      <td>0.085129</td>\n",
       "      <td>0.095302</td>\n",
       "      <td>0.097</td>\n",
       "      <td>NaN</td>\n",
       "    </tr>\n",
       "    <tr>\n",
       "      <td>5</td>\n",
       "      <td>0.060756</td>\n",
       "      <td>0.069059</td>\n",
       "      <td>0.079</td>\n",
       "      <td>NaN</td>\n",
       "    </tr>\n",
       "    <tr>\n",
       "      <td>6</td>\n",
       "      <td>0.058637</td>\n",
       "      <td>0.051228</td>\n",
       "      <td>0.067</td>\n",
       "      <td>NaN</td>\n",
       "    </tr>\n",
       "    <tr>\n",
       "      <td>7</td>\n",
       "      <td>0.053338</td>\n",
       "      <td>0.035941</td>\n",
       "      <td>0.058</td>\n",
       "      <td>NaN</td>\n",
       "    </tr>\n",
       "    <tr>\n",
       "      <td>8</td>\n",
       "      <td>0.056164</td>\n",
       "      <td>0.030966</td>\n",
       "      <td>0.051</td>\n",
       "      <td>NaN</td>\n",
       "    </tr>\n",
       "    <tr>\n",
       "      <td>9</td>\n",
       "      <td>0.054045</td>\n",
       "      <td>0.020849</td>\n",
       "      <td>0.046</td>\n",
       "      <td>NaN</td>\n",
       "    </tr>\n",
       "  </tbody>\n",
       "</table>\n",
       "</div>"
      ],
      "text/plain": [
       "   Anomalous    Normal  Expected (Benford)  Expected ((Uniform Sum))\n",
       "1   0.329212  0.377575               0.301                       NaN\n",
       "2   0.189332  0.198318               0.176                       1.0\n",
       "3   0.113387  0.120762               0.125                       NaN\n",
       "4   0.085129  0.095302               0.097                       NaN\n",
       "5   0.060756  0.069059               0.079                       NaN\n",
       "6   0.058637  0.051228               0.067                       NaN\n",
       "7   0.053338  0.035941               0.058                       NaN\n",
       "8   0.056164  0.030966               0.051                       NaN\n",
       "9   0.054045  0.020849               0.046                       NaN"
      ]
     },
     "execution_count": 61,
     "metadata": {},
     "output_type": "execute_result"
    }
   ],
   "source": [
    "freqs_cord_values = pd.DataFrame([anomalous_first_digit_frequencies,\n",
    "                                 normal_first_digit_frequencies,\n",
    "                                 expected_frequencies,\n",
    "                                 uniform_first_digit_frequencies]).T\n",
    "freqs_cord_values.columns = ['Anomalous', 'Normal', 'Expected (Benford)', 'Expected ((Uniform Sum))']\n",
    "freqs_cord_values"
   ]
  },
  {
   "cell_type": "code",
   "execution_count": 63,
   "metadata": {},
   "outputs": [
    {
     "data": {
      "text/plain": [
       "<matplotlib.axes._subplots.AxesSubplot at 0x1a20cb9950>"
      ]
     },
     "execution_count": 63,
     "metadata": {},
     "output_type": "execute_result"
    },
    {
     "data": {
      "image/png": "[encoded data removed]",
      "text/plain": [
       "<Figure size 432x288 with 1 Axes>"
      ]
     },
     "metadata": {
      "needs_background": "light"
     },
     "output_type": "display_data"
    }
   ],
   "source": [
    "freqs_cord_values.plot(kind='bar') #figure out how to make it larger"
   ]
  },
  {
   "cell_type": "code",
   "execution_count": 65,
   "metadata": {},
   "outputs": [
    {
     "data": {
      "image/png": "[encoded data removed]",
      "text/plain": [
       "<Figure size 648x360 with 1 Axes>"
      ]
     },
     "metadata": {
      "needs_background": "light"
     },
     "output_type": "display_data"
    }
   ],
   "source": [
    "#confidence intervals anomalous and normal\n",
    "\n",
    "plot_multi_proportion_confint_digits(actual_first_digit_frequencies = anomalous_first_digit_frequencies,\n",
    "                                    actual_first_digit_counts = first_digit_anomalous.value_counts(),\n",
    "                                    expected_first_digit_frequencies = expected_frequencies,\n",
    "                                    label_actual = 'Anomalous First Digits', \n",
    "                                    label_expected = \"Benford's Law Predictions\",\n",
    "                                    title = 'Anomalous first digit CIs vs. Benford Law Predictions')"
   ]
  },
  {
   "cell_type": "code",
   "execution_count": 66,
   "metadata": {},
   "outputs": [
    {
     "data": {
      "image/png": "[encoded data removed]",
      "text/plain": [
       "<Figure size 648x360 with 1 Axes>"
      ]
     },
     "metadata": {
      "needs_background": "light"
     },
     "output_type": "display_data"
    }
   ],
   "source": [
    "plot_multi_proportion_confint_digits(actual_first_digit_frequencies = normal_first_digit_frequencies,\n",
    "                                    actual_first_digit_counts = first_digit_normal.value_counts(),\n",
    "                                    expected_first_digit_frequencies = expected_frequencies,\n",
    "                                    label_actual = 'Normal First Digits', \n",
    "                                    label_expected = \"Benford's Law Predictions\",\n",
    "                                    title = 'Normal first digit CIs vs. Benford Law Predictions')"
   ]
  },
  {
   "cell_type": "code",
   "execution_count": null,
   "metadata": {},
   "outputs": [],
   "source": []
  }
 ],
 "metadata": {
  "kernelspec": {
   "display_name": "Python 3",
   "language": "python",
   "name": "python3"
  },
  "language_info": {
   "codemirror_mode": {
    "name": "ipython",
    "version": 3
   },
   "file_extension": ".py",
   "mimetype": "text/x-python",
   "name": "python",
   "nbconvert_exporter": "python",
   "pygments_lexer": "ipython3",
   "version": "3.7.4"
  }
 },
 "nbformat": 4,
 "nbformat_minor": 2
}
