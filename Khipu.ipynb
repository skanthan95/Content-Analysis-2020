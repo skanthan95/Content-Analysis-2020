{
 "cells": [
  {
   "cell_type": "markdown",
   "metadata": {},
   "source": [
    "# Model 1:\n",
    "* Anomalous cords contain logograph-like knot signs\n",
    "* Legisign replicas with a non-numerical interpretant\n",
    "\n",
    "# Model 2:\n",
    "\n",
    "* Anomalous crods contain numerical knot signs\n",
    "* Legisign replicas with a numerical interpretation"
   ]
  },
  {
   "cell_type": "markdown",
   "metadata": {},
   "source": [
    "### Benford's Law \n",
    "* Predicts (on the x axis), for base 10 system of numbers (this), lead digit of number should feature 1 most prominently then 2, in percent of breakdown that we see. Ex, 102, lead digit is 1. So, we expect a certain distribution of first digits within a dataset to follow this distribution."
   ]
  },
  {
   "cell_type": "code",
   "execution_count": null,
   "metadata": {},
   "outputs": [],
   "source": []
  }
 ],
 "metadata": {
  "kernelspec": {
   "display_name": "Python 3",
   "language": "python",
   "name": "python3"
  },
  "language_info": {
   "codemirror_mode": {
    "name": "ipython",
    "version": 3
   },
   "file_extension": ".py",
   "mimetype": "text/x-python",
   "name": "python",
   "nbconvert_exporter": "python",
   "pygments_lexer": "ipython3",
   "version": "3.7.4"
  }
 },
 "nbformat": 4,
 "nbformat_minor": 2
}
