{
 "cells": [
  {
   "cell_type": "markdown",
   "metadata": {},
   "source": [
    "# Hands-on: Deciphering Inka Khipu Signs\n"
   ]
  },
  {
   "cell_type": "code",
   "execution_count": 2,
   "metadata": {},
   "outputs": [],
   "source": [
    "import pandas as pd\n",
    "import matplotlib.pyplot as plt\n",
    "import numpy as np\n",
    "\n",
    "def plot_multi_proportion_confint_digits(actual_first_digit_frequencies, \n",
    "                                         actual_first_digit_counts, \n",
    "                                         expected_first_digit_frequencies,\n",
    "                                         label_actual,\n",
    "                                         label_expected,\n",
    "                                         title\n",
    "                                        ):\n",
    "    # Import function-specific package:\n",
    "    from statsmodels.stats.proportion import multinomial_proportions_confint\n",
    "    \n",
    "    # Plot 95% CIs as lines with caps on the top and bottom for easier interpretation\n",
    "    plt.figure(figsize=(9,5))\n",
    "\n",
    "    (_, caps, _) = plt.errorbar(x=np.arange(1, 10, 1), \n",
    "                     y=actual_first_digit_frequencies, \n",
    "                     yerr=[(top-bot)/2 for top,bot in multinomial_proportions_confint(actual_first_digit_counts)],\n",
    "                     capsize=5, fmt='none', label=label_actual+' 95% CI')\n",
    "\n",
    "    for cap in caps:\n",
    "        cap.set_markeredgewidth(1)\n",
    "\n",
    "    # Plot expected values as scatter plot points, in order to visualize where CIs include expected values\n",
    "    plt.scatter(np.arange(1,10,1), expected_first_digit_frequencies, label=label_expected, color='red')\n",
    "    \n",
    "    # Format \n",
    "    plt.xticks([1,2,3,4,5,6,7,8,9])\n",
    "    plt.xlabel('First Digits')\n",
    "    plt.ylabel('Frequency')\n",
    "    plt.title(title)\n",
    "    plt.legend();\n",
    "    \n",
    "    return\n",
    "\n",
    "expected_frequencies = pd.Series([.301, .176, .125, .097, .079, .067, .058, .051, .046], \n",
    "                                 index = [1, 2, 3, 4, 5, 6, 7, 8, 9]\n",
    "                                )"
   ]
  },
  {
   "cell_type": "code",
   "execution_count": 4,
   "metadata": {},
   "outputs": [
    {
     "data": {
      "text/html": [
       "<div>\n",
       "<style scoped>\n",
       "    .dataframe tbody tr th:only-of-type {\n",
       "        vertical-align: middle;\n",
       "    }\n",
       "\n",
       "    .dataframe tbody tr th {\n",
       "        vertical-align: top;\n",
       "    }\n",
       "\n",
       "    .dataframe thead th {\n",
       "        text-align: right;\n",
       "    }\n",
       "</style>\n",
       "<table border=\"1\" class=\"dataframe\">\n",
       "  <thead>\n",
       "    <tr style=\"text-align: right;\">\n",
       "      <th></th>\n",
       "      <th>GEO.id</th>\n",
       "      <th>GEO.id2</th>\n",
       "      <th>Geography</th>\n",
       "      <th>Population</th>\n",
       "    </tr>\n",
       "  </thead>\n",
       "  <tbody>\n",
       "    <tr>\n",
       "      <td>0</td>\n",
       "      <td>0500000US01001</td>\n",
       "      <td>1001</td>\n",
       "      <td>Autauga County, Alabama</td>\n",
       "      <td>54571</td>\n",
       "    </tr>\n",
       "    <tr>\n",
       "      <td>1</td>\n",
       "      <td>0500000US01003</td>\n",
       "      <td>1003</td>\n",
       "      <td>Baldwin County, Alabama</td>\n",
       "      <td>182265</td>\n",
       "    </tr>\n",
       "    <tr>\n",
       "      <td>2</td>\n",
       "      <td>0500000US01005</td>\n",
       "      <td>1005</td>\n",
       "      <td>Barbour County, Alabama</td>\n",
       "      <td>27457</td>\n",
       "    </tr>\n",
       "    <tr>\n",
       "      <td>3</td>\n",
       "      <td>0500000US01007</td>\n",
       "      <td>1007</td>\n",
       "      <td>Bibb County, Alabama</td>\n",
       "      <td>22915</td>\n",
       "    </tr>\n",
       "    <tr>\n",
       "      <td>4</td>\n",
       "      <td>0500000US01009</td>\n",
       "      <td>1009</td>\n",
       "      <td>Blount County, Alabama</td>\n",
       "      <td>57322</td>\n",
       "    </tr>\n",
       "  </tbody>\n",
       "</table>\n",
       "</div>"
      ],
      "text/plain": [
       "           GEO.id  GEO.id2                Geography  Population\n",
       "0  0500000US01001     1001  Autauga County, Alabama       54571\n",
       "1  0500000US01003     1003  Baldwin County, Alabama      182265\n",
       "2  0500000US01005     1005  Barbour County, Alabama       27457\n",
       "3  0500000US01007     1007     Bibb County, Alabama       22915\n",
       "4  0500000US01009     1009   Blount County, Alabama       57322"
      ]
     },
     "execution_count": 4,
     "metadata": {},
     "output_type": "execute_result"
    }
   ],
   "source": [
    "population_df = pd.read_csv('Population_by_County_2010_Census.csv')\n",
    "population_df.head()"
   ]
  },
  {
   "cell_type": "code",
   "execution_count": null,
   "metadata": {},
   "outputs": [],
   "source": [
    "population_size = population_df['']"
   ]
  }
 ],
 "metadata": {
  "kernelspec": {
   "display_name": "Python 3",
   "language": "python",
   "name": "python3"
  },
  "language_info": {
   "codemirror_mode": {
    "name": "ipython",
    "version": 3
   },
   "file_extension": ".py",
   "mimetype": "text/x-python",
   "name": "python",
   "nbconvert_exporter": "python",
   "pygments_lexer": "ipython3",
   "version": "3.7.4"
  }
 },
 "nbformat": 4,
 "nbformat_minor": 2
}
